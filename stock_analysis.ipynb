{
 "cells": [
  {
   "cell_type": "markdown",
   "metadata": {},
   "source": [
    "# Libraries"
   ]
  },
  {
   "cell_type": "code",
   "execution_count": null,
   "metadata": {},
   "outputs": [],
   "source": [
    "from Functions import *\n",
    "import pandas as pd\n",
    "import numpy as np\n",
    "import yfinance as yf\n",
    "import plotly.express as px\n",
    "import plotly.graph_objects as go\n",
    "import plotly.io as pio\n",
    "pio.templates.default = \"plotly_dark\"\n",
    "from typing import Tuple\n",
    "from transformers import AutoTokenizer, AutoModelForSequenceClassification\n",
    "import torch.nn.functional as F\n",
    "import torch"
   ]
  },
  {
   "cell_type": "markdown",
   "metadata": {},
   "source": [
    "# Setup"
   ]
  },
  {
   "cell_type": "code",
   "execution_count": null,
   "metadata": {},
   "outputs": [],
   "source": [
    "symbol = 'PYPL'\n",
    "cik = get_cik_from_symbol(symbol)\n",
    "cik"
   ]
  },
  {
   "cell_type": "code",
   "execution_count": null,
   "metadata": {},
   "outputs": [],
   "source": [
    "company_facts = get_company_facts(cik, symbol)"
   ]
  },
  {
   "cell_type": "code",
   "execution_count": null,
   "metadata": {},
   "outputs": [],
   "source": [
    "ticker = yf.Ticker(symbol)\n",
    "history = ticker.history(period=\"max\", interval='1d', actions=False)\n",
    "history"
   ]
  },
  {
   "cell_type": "code",
   "execution_count": null,
   "metadata": {},
   "outputs": [],
   "source": [
    "quarter_revenues, annual_revenues = get_fact(company_facts, 'Revenues')\n",
    "quarter_NetIncomeLoss, annual_NetIncomeLoss = get_fact(company_facts, 'NetIncomeLoss')"
   ]
  },
  {
   "cell_type": "markdown",
   "metadata": {},
   "source": [
    "# Company Facts"
   ]
  },
  {
   "cell_type": "markdown",
   "metadata": {},
   "source": [
    "## Revenues"
   ]
  },
  {
   "cell_type": "code",
   "execution_count": null,
   "metadata": {},
   "outputs": [],
   "source": [
    "bar_chart = go.Bar(x=annual_revenues.index, y=annual_revenues['Value'], name='Bar Data')\n",
    "line_chart = go.Scatter(x=history.index, y=history[\"Open\"], name='Line Data', mode='lines+markers', yaxis='y2')\n",
    "\n",
    "fig = go.Figure(data=[line_chart, bar_chart])\n",
    "\n",
    "fig.update_layout(\n",
    "    title=\"Price and annual Revenues\",\n",
    "    xaxis_title=\"Time\",\n",
    "    yaxis_title=\"Values\",\n",
    "    yaxis2=dict(\n",
    "        title=\"Stock Price\",\n",
    "        overlaying=\"y\",\n",
    "        side=\"right\"\n",
    "    ),\n",
    "    legend_title=\"Legend\",\n",
    ")\n",
    "fig.show()"
   ]
  },
  {
   "cell_type": "code",
   "execution_count": null,
   "metadata": {},
   "outputs": [],
   "source": [
    "bar_chart = go.Bar(x=quarter_revenues.index, y=quarter_revenues['Value'], name='Bar Data')\n",
    "line_chart = go.Scatter(x=history.index, y=history[\"Open\"], name='Line Data', mode='lines+markers', yaxis='y2')\n",
    "\n",
    "fig = go.Figure(data=[line_chart, bar_chart])\n",
    "\n",
    "fig.update_layout(\n",
    "    title=\"Price and quarter Revenues\",\n",
    "    xaxis_title=\"Time\",\n",
    "    yaxis_title=\"Values\",\n",
    "    yaxis2=dict(\n",
    "        title=\"Stock Price\",\n",
    "        overlaying=\"y\",\n",
    "        side=\"right\"\n",
    "    ),\n",
    "    legend_title=\"Legend\",\n",
    ")\n",
    "fig.show()"
   ]
  },
  {
   "cell_type": "markdown",
   "metadata": {},
   "source": [
    "## Net Income"
   ]
  },
  {
   "cell_type": "code",
   "execution_count": null,
   "metadata": {},
   "outputs": [],
   "source": [
    "bar_chart = go.Bar(x=annual_NetIncomeLoss.index, y=annual_NetIncomeLoss['Value'], name='Bar Data')\n",
    "\n",
    "line_chart = go.Scatter(x=history.index, y=history[\"Open\"], name='Line Data', mode='lines+markers', yaxis='y2')\n",
    "\n",
    "fig = go.Figure(data=[line_chart, bar_chart])\n",
    "\n",
    "fig.update_layout(\n",
    "    title=\"Price and annual Net Income Loss\",\n",
    "    xaxis_title=\"Time\",\n",
    "    yaxis_title=\"Values\",\n",
    "    yaxis2=dict(\n",
    "        title=\"Stock Price\",\n",
    "        overlaying=\"y\",\n",
    "        side=\"right\"\n",
    "    ),\n",
    "    legend_title=\"Legend\",\n",
    ")\n",
    "fig.show()"
   ]
  },
  {
   "cell_type": "code",
   "execution_count": null,
   "metadata": {},
   "outputs": [],
   "source": [
    "bar_chart = go.Bar(x=quarter_NetIncomeLoss.index, y=quarter_NetIncomeLoss['Value'], name='Bar Data')\n",
    "\n",
    "line_chart = go.Scatter(x=history.index, y=history[\"Open\"], name='Line Data', mode='lines+markers', yaxis='y2')\n",
    "\n",
    "fig = go.Figure(data=[line_chart, bar_chart])\n",
    "\n",
    "fig.update_layout(\n",
    "    title=\"Price and annual Net Income Loss\",\n",
    "    xaxis_title=\"Time\",\n",
    "    yaxis_title=\"Values\",\n",
    "    yaxis2=dict(\n",
    "        title=\"Stock Price\",\n",
    "        overlaying=\"y\",\n",
    "        side=\"right\"\n",
    "    ),\n",
    "    legend_title=\"Legend\",\n",
    ")\n",
    "fig.show()"
   ]
  },
  {
   "cell_type": "code",
   "execution_count": null,
   "metadata": {},
   "outputs": [],
   "source": []
  }
 ],
 "metadata": {
  "kernelspec": {
   "display_name": "kaggle",
   "language": "python",
   "name": "python3"
  },
  "language_info": {
   "codemirror_mode": {
    "name": "ipython",
    "version": 3
   },
   "file_extension": ".py",
   "mimetype": "text/x-python",
   "name": "python",
   "nbconvert_exporter": "python",
   "pygments_lexer": "ipython3",
   "version": "3.11.9"
  }
 },
 "nbformat": 4,
 "nbformat_minor": 2
}
