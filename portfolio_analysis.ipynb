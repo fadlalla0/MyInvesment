{
 "cells": [
  {
   "cell_type": "markdown",
   "metadata": {},
   "source": [
    "# Libraries"
   ]
  },
  {
   "cell_type": "code",
   "execution_count": 5,
   "metadata": {},
   "outputs": [],
   "source": [
    "from Functions import *\n",
    "import pandas as pd\n",
    "import numpy as np\n",
    "import yfinance as yf\n",
    "import plotly.express as px\n",
    "import plotly.io as pio\n",
    "pd.options.display.float_format = '{:,.3f}'.format\n",
    "pio.templates.default = \"plotly_dark\""
   ]
  },
  {
   "cell_type": "markdown",
   "metadata": {},
   "source": [
    "# Portfloio Allocation"
   ]
  },
  {
   "cell_type": "code",
   "execution_count": 6,
   "metadata": {},
   "outputs": [
    {
     "data": {
      "text/html": [
       "<div>\n",
       "<style scoped>\n",
       "    .dataframe tbody tr th:only-of-type {\n",
       "        vertical-align: middle;\n",
       "    }\n",
       "\n",
       "    .dataframe tbody tr th {\n",
       "        vertical-align: top;\n",
       "    }\n",
       "\n",
       "    .dataframe thead th {\n",
       "        text-align: right;\n",
       "    }\n",
       "</style>\n",
       "<table border=\"1\" class=\"dataframe\">\n",
       "  <thead>\n",
       "    <tr style=\"text-align: right;\">\n",
       "      <th></th>\n",
       "      <th>symbol</th>\n",
       "      <th>shares</th>\n",
       "      <th>sector</th>\n",
       "      <th>industry</th>\n",
       "      <th>current</th>\n",
       "      <th>investment_value</th>\n",
       "      <th>low</th>\n",
       "      <th>high</th>\n",
       "      <th>mean</th>\n",
       "      <th>median</th>\n",
       "      <th>strongBuy</th>\n",
       "      <th>buy</th>\n",
       "      <th>hold</th>\n",
       "      <th>sell</th>\n",
       "      <th>strongSell</th>\n",
       "    </tr>\n",
       "  </thead>\n",
       "  <tbody>\n",
       "    <tr>\n",
       "      <th>0</th>\n",
       "      <td>REGN</td>\n",
       "      <td>0.671</td>\n",
       "      <td>Healthcare</td>\n",
       "      <td>Biotechnology</td>\n",
       "      <td>708.255</td>\n",
       "      <td>475.338</td>\n",
       "      <td>565.000</td>\n",
       "      <td>1,230.000</td>\n",
       "      <td>1,063.076</td>\n",
       "      <td>1,128.000</td>\n",
       "      <td>6</td>\n",
       "      <td>12</td>\n",
       "      <td>6</td>\n",
       "      <td>0</td>\n",
       "      <td>1</td>\n",
       "    </tr>\n",
       "    <tr>\n",
       "      <th>1</th>\n",
       "      <td>CART</td>\n",
       "      <td>11.777</td>\n",
       "      <td>Consumer Cyclical</td>\n",
       "      <td>Internet Retail</td>\n",
       "      <td>42.070</td>\n",
       "      <td>495.466</td>\n",
       "      <td>37.000</td>\n",
       "      <td>60.000</td>\n",
       "      <td>50.275</td>\n",
       "      <td>52.000</td>\n",
       "      <td>6</td>\n",
       "      <td>9</td>\n",
       "      <td>15</td>\n",
       "      <td>0</td>\n",
       "      <td>0</td>\n",
       "    </tr>\n",
       "    <tr>\n",
       "      <th>2</th>\n",
       "      <td>NVDA</td>\n",
       "      <td>3.515</td>\n",
       "      <td>Technology</td>\n",
       "      <td>Semiconductors</td>\n",
       "      <td>129.240</td>\n",
       "      <td>454.223</td>\n",
       "      <td>130.000</td>\n",
       "      <td>220.000</td>\n",
       "      <td>172.802</td>\n",
       "      <td>175.000</td>\n",
       "      <td>12</td>\n",
       "      <td>48</td>\n",
       "      <td>4</td>\n",
       "      <td>0</td>\n",
       "      <td>0</td>\n",
       "    </tr>\n",
       "    <tr>\n",
       "      <th>3</th>\n",
       "      <td>PLD</td>\n",
       "      <td>4.311</td>\n",
       "      <td>Real Estate</td>\n",
       "      <td>REIT - Industrial</td>\n",
       "      <td>102.180</td>\n",
       "      <td>440.545</td>\n",
       "      <td>104.000</td>\n",
       "      <td>154.000</td>\n",
       "      <td>130.333</td>\n",
       "      <td>132.000</td>\n",
       "      <td>5</td>\n",
       "      <td>9</td>\n",
       "      <td>8</td>\n",
       "      <td>0</td>\n",
       "      <td>1</td>\n",
       "    </tr>\n",
       "    <tr>\n",
       "      <th>4</th>\n",
       "      <td>BOOT</td>\n",
       "      <td>2.226</td>\n",
       "      <td>Consumer Cyclical</td>\n",
       "      <td>Apparel Retail</td>\n",
       "      <td>145.617</td>\n",
       "      <td>324.193</td>\n",
       "      <td>155.000</td>\n",
       "      <td>195.000</td>\n",
       "      <td>176.667</td>\n",
       "      <td>178.500</td>\n",
       "      <td>2</td>\n",
       "      <td>9</td>\n",
       "      <td>3</td>\n",
       "      <td>0</td>\n",
       "      <td>0</td>\n",
       "    </tr>\n",
       "    <tr>\n",
       "      <th>5</th>\n",
       "      <td>FSLR</td>\n",
       "      <td>1.579</td>\n",
       "      <td>Technology</td>\n",
       "      <td>Solar</td>\n",
       "      <td>176.250</td>\n",
       "      <td>278.318</td>\n",
       "      <td>190.000</td>\n",
       "      <td>360.000</td>\n",
       "      <td>270.401</td>\n",
       "      <td>268.000</td>\n",
       "      <td>13</td>\n",
       "      <td>19</td>\n",
       "      <td>8</td>\n",
       "      <td>0</td>\n",
       "      <td>0</td>\n",
       "    </tr>\n",
       "    <tr>\n",
       "      <th>6</th>\n",
       "      <td>AMAT</td>\n",
       "      <td>1.471</td>\n",
       "      <td>Technology</td>\n",
       "      <td>Semiconductor Equipment &amp; Materials</td>\n",
       "      <td>161.110</td>\n",
       "      <td>236.969</td>\n",
       "      <td>155.000</td>\n",
       "      <td>250.000</td>\n",
       "      <td>214.219</td>\n",
       "      <td>221.000</td>\n",
       "      <td>6</td>\n",
       "      <td>19</td>\n",
       "      <td>12</td>\n",
       "      <td>1</td>\n",
       "      <td>0</td>\n",
       "    </tr>\n",
       "    <tr>\n",
       "      <th>7</th>\n",
       "      <td>ASML</td>\n",
       "      <td>0.303</td>\n",
       "      <td>Technology</td>\n",
       "      <td>Semiconductor Equipment &amp; Materials</td>\n",
       "      <td>702.710</td>\n",
       "      <td>212.577</td>\n",
       "      <td>687.147</td>\n",
       "      <td>1,127.952</td>\n",
       "      <td>902.913</td>\n",
       "      <td>891.914</td>\n",
       "      <td>8</td>\n",
       "      <td>21</td>\n",
       "      <td>10</td>\n",
       "      <td>0</td>\n",
       "      <td>0</td>\n",
       "    </tr>\n",
       "    <tr>\n",
       "      <th>8</th>\n",
       "      <td>ABBV</td>\n",
       "      <td>1.208</td>\n",
       "      <td>Healthcare</td>\n",
       "      <td>Drug Manufacturers - General</td>\n",
       "      <td>174.000</td>\n",
       "      <td>210.140</td>\n",
       "      <td>165.000</td>\n",
       "      <td>240.000</td>\n",
       "      <td>202.542</td>\n",
       "      <td>205.000</td>\n",
       "      <td>6</td>\n",
       "      <td>13</td>\n",
       "      <td>10</td>\n",
       "      <td>0</td>\n",
       "      <td>0</td>\n",
       "    </tr>\n",
       "    <tr>\n",
       "      <th>9</th>\n",
       "      <td>MELI</td>\n",
       "      <td>0.103</td>\n",
       "      <td>Consumer Cyclical</td>\n",
       "      <td>Internet Retail</td>\n",
       "      <td>1,660.985</td>\n",
       "      <td>171.746</td>\n",
       "      <td>1,750.000</td>\n",
       "      <td>2,800.000</td>\n",
       "      <td>2,289.644</td>\n",
       "      <td>2,300.000</td>\n",
       "      <td>7</td>\n",
       "      <td>14</td>\n",
       "      <td>4</td>\n",
       "      <td>0</td>\n",
       "      <td>0</td>\n",
       "    </tr>\n",
       "    <tr>\n",
       "      <th>10</th>\n",
       "      <td>HIMS</td>\n",
       "      <td>5.556</td>\n",
       "      <td>Consumer Defensive</td>\n",
       "      <td>Household &amp; Personal Products</td>\n",
       "      <td>25.980</td>\n",
       "      <td>144.333</td>\n",
       "      <td>18.000</td>\n",
       "      <td>38.000</td>\n",
       "      <td>24.904</td>\n",
       "      <td>24.000</td>\n",
       "      <td>2</td>\n",
       "      <td>2</td>\n",
       "      <td>7</td>\n",
       "      <td>0</td>\n",
       "      <td>1</td>\n",
       "    </tr>\n",
       "    <tr>\n",
       "      <th>11</th>\n",
       "      <td>PYPL</td>\n",
       "      <td>1.230</td>\n",
       "      <td>Financial Services</td>\n",
       "      <td>Credit Services</td>\n",
       "      <td>85.560</td>\n",
       "      <td>105.239</td>\n",
       "      <td>70.000</td>\n",
       "      <td>125.000</td>\n",
       "      <td>93.694</td>\n",
       "      <td>92.000</td>\n",
       "      <td>8</td>\n",
       "      <td>18</td>\n",
       "      <td>20</td>\n",
       "      <td>0</td>\n",
       "      <td>0</td>\n",
       "    </tr>\n",
       "    <tr>\n",
       "      <th>12</th>\n",
       "      <td>NUE</td>\n",
       "      <td>0.712</td>\n",
       "      <td>Basic Materials</td>\n",
       "      <td>Steel</td>\n",
       "      <td>115.870</td>\n",
       "      <td>82.474</td>\n",
       "      <td>145.000</td>\n",
       "      <td>190.000</td>\n",
       "      <td>163.964</td>\n",
       "      <td>164.730</td>\n",
       "      <td>4</td>\n",
       "      <td>4</td>\n",
       "      <td>7</td>\n",
       "      <td>0</td>\n",
       "      <td>0</td>\n",
       "    </tr>\n",
       "    <tr>\n",
       "      <th>13</th>\n",
       "      <td>EME</td>\n",
       "      <td>0.197</td>\n",
       "      <td>Industrials</td>\n",
       "      <td>Engineering &amp; Construction</td>\n",
       "      <td>458.974</td>\n",
       "      <td>90.533</td>\n",
       "      <td>445.000</td>\n",
       "      <td>600.000</td>\n",
       "      <td>540.000</td>\n",
       "      <td>557.500</td>\n",
       "      <td>0</td>\n",
       "      <td>3</td>\n",
       "      <td>1</td>\n",
       "      <td>0</td>\n",
       "      <td>1</td>\n",
       "    </tr>\n",
       "  </tbody>\n",
       "</table>\n",
       "</div>"
      ],
      "text/plain": [
       "   symbol  shares              sector                             industry  \\\n",
       "0    REGN   0.671          Healthcare                        Biotechnology   \n",
       "1    CART  11.777   Consumer Cyclical                      Internet Retail   \n",
       "2    NVDA   3.515          Technology                       Semiconductors   \n",
       "3     PLD   4.311         Real Estate                    REIT - Industrial   \n",
       "4    BOOT   2.226   Consumer Cyclical                       Apparel Retail   \n",
       "5    FSLR   1.579          Technology                                Solar   \n",
       "6    AMAT   1.471          Technology  Semiconductor Equipment & Materials   \n",
       "7    ASML   0.303          Technology  Semiconductor Equipment & Materials   \n",
       "8    ABBV   1.208          Healthcare         Drug Manufacturers - General   \n",
       "9    MELI   0.103   Consumer Cyclical                      Internet Retail   \n",
       "10   HIMS   5.556  Consumer Defensive        Household & Personal Products   \n",
       "11   PYPL   1.230  Financial Services                      Credit Services   \n",
       "12    NUE   0.712     Basic Materials                                Steel   \n",
       "13    EME   0.197         Industrials           Engineering & Construction   \n",
       "\n",
       "     current  investment_value       low      high      mean    median  \\\n",
       "0    708.255           475.338   565.000 1,230.000 1,063.076 1,128.000   \n",
       "1     42.070           495.466    37.000    60.000    50.275    52.000   \n",
       "2    129.240           454.223   130.000   220.000   172.802   175.000   \n",
       "3    102.180           440.545   104.000   154.000   130.333   132.000   \n",
       "4    145.617           324.193   155.000   195.000   176.667   178.500   \n",
       "5    176.250           278.318   190.000   360.000   270.401   268.000   \n",
       "6    161.110           236.969   155.000   250.000   214.219   221.000   \n",
       "7    702.710           212.577   687.147 1,127.952   902.913   891.914   \n",
       "8    174.000           210.140   165.000   240.000   202.542   205.000   \n",
       "9  1,660.985           171.746 1,750.000 2,800.000 2,289.644 2,300.000   \n",
       "10    25.980           144.333    18.000    38.000    24.904    24.000   \n",
       "11    85.560           105.239    70.000   125.000    93.694    92.000   \n",
       "12   115.870            82.474   145.000   190.000   163.964   164.730   \n",
       "13   458.974            90.533   445.000   600.000   540.000   557.500   \n",
       "\n",
       "    strongBuy  buy  hold  sell  strongSell  \n",
       "0           6   12     6     0           1  \n",
       "1           6    9    15     0           0  \n",
       "2          12   48     4     0           0  \n",
       "3           5    9     8     0           1  \n",
       "4           2    9     3     0           0  \n",
       "5          13   19     8     0           0  \n",
       "6           6   19    12     1           0  \n",
       "7           8   21    10     0           0  \n",
       "8           6   13    10     0           0  \n",
       "9           7   14     4     0           0  \n",
       "10          2    2     7     0           1  \n",
       "11          8   18    20     0           0  \n",
       "12          4    4     7     0           0  \n",
       "13          0    3     1     0           1  "
      ]
     },
     "execution_count": 6,
     "metadata": {},
     "output_type": "execute_result"
    }
   ],
   "source": [
    "data = pd.read_csv('portfolio.csv')\n",
    "data, tickers = read_portfolio(data)\n",
    "data"
   ]
  },
  {
   "cell_type": "code",
   "execution_count": 7,
   "metadata": {},
   "outputs": [
    {
     "name": "stdout",
     "output_type": "stream",
     "text": [
      "Current Price:  3722.093894406\n",
      "Lowest Price:  3558.506352840499\n",
      "Highest Price:  5878.668709771001\n",
      "Mean Price:  4841.539318987\n",
      "Median Price:  4928.2082059376\n"
     ]
    }
   ],
   "source": [
    "print(\"Current Price: \", np.sum(data['shares'] * data['current']))\n",
    "print(\"Lowest Price: \", np.sum(data['shares'] * data['low']))\n",
    "print(\"Highest Price: \", np.sum(data['shares'] * data['high']))\n",
    "print(\"Mean Price: \", np.sum(data['shares'] * data['mean']))\n",
    "print(\"Median Price: \", np.sum(data['shares'] * data['median']))"
   ]
  },
  {
   "cell_type": "markdown",
   "metadata": {},
   "source": [
    "## Allocation by stock"
   ]
  },
  {
   "cell_type": "code",
   "execution_count": 5,
   "metadata": {},
   "outputs": [
    {
     "data": {
      "application/vnd.plotly.v1+json": {
       "config": {
        "plotlyServerURL": "https://plot.ly"
       },
       "data": [
        {
         "domain": {
          "x": [
           0,
           1
          ],
          "y": [
           0,
           1
          ]
         },
         "hovertemplate": "symbol=%{label}<br>investment_value=%{value}<extra></extra>",
         "labels": [
          "REGN",
          "CART",
          "NVDA",
          "PLD",
          "BOOT",
          "FSLR",
          "AMAT",
          "ASML",
          "ABBV",
          "MELI",
          "HIMS",
          "PYPL",
          "NUE",
          "EME"
         ],
         "legendgroup": "",
         "name": "",
         "showlegend": true,
         "type": "pie",
         "values": [
          486.4892518,
          501.47275019999995,
          463.92456,
          469.38865020000003,
          331.47976259999996,
          300.8678283,
          249.1766985,
          218.52717379999999,
          207.277551,
          185.78084800000002,
          173.61124999999998,
          112.29899999999999,
          88.3746048,
          95.5774875
         ]
        }
       ],
       "layout": {
        "legend": {
         "tracegroupgap": 0
        },
        "template": {
         "data": {
          "bar": [
           {
            "error_x": {
             "color": "#f2f5fa"
            },
            "error_y": {
             "color": "#f2f5fa"
            },
            "marker": {
             "line": {
              "color": "rgb(17,17,17)",
              "width": 0.5
             },
             "pattern": {
              "fillmode": "overlay",
              "size": 10,
              "solidity": 0.2
             }
            },
            "type": "bar"
           }
          ],
          "barpolar": [
           {
            "marker": {
             "line": {
              "color": "rgb(17,17,17)",
              "width": 0.5
             },
             "pattern": {
              "fillmode": "overlay",
              "size": 10,
              "solidity": 0.2
             }
            },
            "type": "barpolar"
           }
          ],
          "carpet": [
           {
            "aaxis": {
             "endlinecolor": "#A2B1C6",
             "gridcolor": "#506784",
             "linecolor": "#506784",
             "minorgridcolor": "#506784",
             "startlinecolor": "#A2B1C6"
            },
            "baxis": {
             "endlinecolor": "#A2B1C6",
             "gridcolor": "#506784",
             "linecolor": "#506784",
             "minorgridcolor": "#506784",
             "startlinecolor": "#A2B1C6"
            },
            "type": "carpet"
           }
          ],
          "choropleth": [
           {
            "colorbar": {
             "outlinewidth": 0,
             "ticks": ""
            },
            "type": "choropleth"
           }
          ],
          "contour": [
           {
            "colorbar": {
             "outlinewidth": 0,
             "ticks": ""
            },
            "colorscale": [
             [
              0,
              "#0d0887"
             ],
             [
              0.1111111111111111,
              "#46039f"
             ],
             [
              0.2222222222222222,
              "#7201a8"
             ],
             [
              0.3333333333333333,
              "#9c179e"
             ],
             [
              0.4444444444444444,
              "#bd3786"
             ],
             [
              0.5555555555555556,
              "#d8576b"
             ],
             [
              0.6666666666666666,
              "#ed7953"
             ],
             [
              0.7777777777777778,
              "#fb9f3a"
             ],
             [
              0.8888888888888888,
              "#fdca26"
             ],
             [
              1,
              "#f0f921"
             ]
            ],
            "type": "contour"
           }
          ],
          "contourcarpet": [
           {
            "colorbar": {
             "outlinewidth": 0,
             "ticks": ""
            },
            "type": "contourcarpet"
           }
          ],
          "heatmap": [
           {
            "colorbar": {
             "outlinewidth": 0,
             "ticks": ""
            },
            "colorscale": [
             [
              0,
              "#0d0887"
             ],
             [
              0.1111111111111111,
              "#46039f"
             ],
             [
              0.2222222222222222,
              "#7201a8"
             ],
             [
              0.3333333333333333,
              "#9c179e"
             ],
             [
              0.4444444444444444,
              "#bd3786"
             ],
             [
              0.5555555555555556,
              "#d8576b"
             ],
             [
              0.6666666666666666,
              "#ed7953"
             ],
             [
              0.7777777777777778,
              "#fb9f3a"
             ],
             [
              0.8888888888888888,
              "#fdca26"
             ],
             [
              1,
              "#f0f921"
             ]
            ],
            "type": "heatmap"
           }
          ],
          "heatmapgl": [
           {
            "colorbar": {
             "outlinewidth": 0,
             "ticks": ""
            },
            "colorscale": [
             [
              0,
              "#0d0887"
             ],
             [
              0.1111111111111111,
              "#46039f"
             ],
             [
              0.2222222222222222,
              "#7201a8"
             ],
             [
              0.3333333333333333,
              "#9c179e"
             ],
             [
              0.4444444444444444,
              "#bd3786"
             ],
             [
              0.5555555555555556,
              "#d8576b"
             ],
             [
              0.6666666666666666,
              "#ed7953"
             ],
             [
              0.7777777777777778,
              "#fb9f3a"
             ],
             [
              0.8888888888888888,
              "#fdca26"
             ],
             [
              1,
              "#f0f921"
             ]
            ],
            "type": "heatmapgl"
           }
          ],
          "histogram": [
           {
            "marker": {
             "pattern": {
              "fillmode": "overlay",
              "size": 10,
              "solidity": 0.2
             }
            },
            "type": "histogram"
           }
          ],
          "histogram2d": [
           {
            "colorbar": {
             "outlinewidth": 0,
             "ticks": ""
            },
            "colorscale": [
             [
              0,
              "#0d0887"
             ],
             [
              0.1111111111111111,
              "#46039f"
             ],
             [
              0.2222222222222222,
              "#7201a8"
             ],
             [
              0.3333333333333333,
              "#9c179e"
             ],
             [
              0.4444444444444444,
              "#bd3786"
             ],
             [
              0.5555555555555556,
              "#d8576b"
             ],
             [
              0.6666666666666666,
              "#ed7953"
             ],
             [
              0.7777777777777778,
              "#fb9f3a"
             ],
             [
              0.8888888888888888,
              "#fdca26"
             ],
             [
              1,
              "#f0f921"
             ]
            ],
            "type": "histogram2d"
           }
          ],
          "histogram2dcontour": [
           {
            "colorbar": {
             "outlinewidth": 0,
             "ticks": ""
            },
            "colorscale": [
             [
              0,
              "#0d0887"
             ],
             [
              0.1111111111111111,
              "#46039f"
             ],
             [
              0.2222222222222222,
              "#7201a8"
             ],
             [
              0.3333333333333333,
              "#9c179e"
             ],
             [
              0.4444444444444444,
              "#bd3786"
             ],
             [
              0.5555555555555556,
              "#d8576b"
             ],
             [
              0.6666666666666666,
              "#ed7953"
             ],
             [
              0.7777777777777778,
              "#fb9f3a"
             ],
             [
              0.8888888888888888,
              "#fdca26"
             ],
             [
              1,
              "#f0f921"
             ]
            ],
            "type": "histogram2dcontour"
           }
          ],
          "mesh3d": [
           {
            "colorbar": {
             "outlinewidth": 0,
             "ticks": ""
            },
            "type": "mesh3d"
           }
          ],
          "parcoords": [
           {
            "line": {
             "colorbar": {
              "outlinewidth": 0,
              "ticks": ""
             }
            },
            "type": "parcoords"
           }
          ],
          "pie": [
           {
            "automargin": true,
            "type": "pie"
           }
          ],
          "scatter": [
           {
            "marker": {
             "line": {
              "color": "#283442"
             }
            },
            "type": "scatter"
           }
          ],
          "scatter3d": [
           {
            "line": {
             "colorbar": {
              "outlinewidth": 0,
              "ticks": ""
             }
            },
            "marker": {
             "colorbar": {
              "outlinewidth": 0,
              "ticks": ""
             }
            },
            "type": "scatter3d"
           }
          ],
          "scattercarpet": [
           {
            "marker": {
             "colorbar": {
              "outlinewidth": 0,
              "ticks": ""
             }
            },
            "type": "scattercarpet"
           }
          ],
          "scattergeo": [
           {
            "marker": {
             "colorbar": {
              "outlinewidth": 0,
              "ticks": ""
             }
            },
            "type": "scattergeo"
           }
          ],
          "scattergl": [
           {
            "marker": {
             "line": {
              "color": "#283442"
             }
            },
            "type": "scattergl"
           }
          ],
          "scattermapbox": [
           {
            "marker": {
             "colorbar": {
              "outlinewidth": 0,
              "ticks": ""
             }
            },
            "type": "scattermapbox"
           }
          ],
          "scatterpolar": [
           {
            "marker": {
             "colorbar": {
              "outlinewidth": 0,
              "ticks": ""
             }
            },
            "type": "scatterpolar"
           }
          ],
          "scatterpolargl": [
           {
            "marker": {
             "colorbar": {
              "outlinewidth": 0,
              "ticks": ""
             }
            },
            "type": "scatterpolargl"
           }
          ],
          "scatterternary": [
           {
            "marker": {
             "colorbar": {
              "outlinewidth": 0,
              "ticks": ""
             }
            },
            "type": "scatterternary"
           }
          ],
          "surface": [
           {
            "colorbar": {
             "outlinewidth": 0,
             "ticks": ""
            },
            "colorscale": [
             [
              0,
              "#0d0887"
             ],
             [
              0.1111111111111111,
              "#46039f"
             ],
             [
              0.2222222222222222,
              "#7201a8"
             ],
             [
              0.3333333333333333,
              "#9c179e"
             ],
             [
              0.4444444444444444,
              "#bd3786"
             ],
             [
              0.5555555555555556,
              "#d8576b"
             ],
             [
              0.6666666666666666,
              "#ed7953"
             ],
             [
              0.7777777777777778,
              "#fb9f3a"
             ],
             [
              0.8888888888888888,
              "#fdca26"
             ],
             [
              1,
              "#f0f921"
             ]
            ],
            "type": "surface"
           }
          ],
          "table": [
           {
            "cells": {
             "fill": {
              "color": "#506784"
             },
             "line": {
              "color": "rgb(17,17,17)"
             }
            },
            "header": {
             "fill": {
              "color": "#2a3f5f"
             },
             "line": {
              "color": "rgb(17,17,17)"
             }
            },
            "type": "table"
           }
          ]
         },
         "layout": {
          "annotationdefaults": {
           "arrowcolor": "#f2f5fa",
           "arrowhead": 0,
           "arrowwidth": 1
          },
          "autotypenumbers": "strict",
          "coloraxis": {
           "colorbar": {
            "outlinewidth": 0,
            "ticks": ""
           }
          },
          "colorscale": {
           "diverging": [
            [
             0,
             "#8e0152"
            ],
            [
             0.1,
             "#c51b7d"
            ],
            [
             0.2,
             "#de77ae"
            ],
            [
             0.3,
             "#f1b6da"
            ],
            [
             0.4,
             "#fde0ef"
            ],
            [
             0.5,
             "#f7f7f7"
            ],
            [
             0.6,
             "#e6f5d0"
            ],
            [
             0.7,
             "#b8e186"
            ],
            [
             0.8,
             "#7fbc41"
            ],
            [
             0.9,
             "#4d9221"
            ],
            [
             1,
             "#276419"
            ]
           ],
           "sequential": [
            [
             0,
             "#0d0887"
            ],
            [
             0.1111111111111111,
             "#46039f"
            ],
            [
             0.2222222222222222,
             "#7201a8"
            ],
            [
             0.3333333333333333,
             "#9c179e"
            ],
            [
             0.4444444444444444,
             "#bd3786"
            ],
            [
             0.5555555555555556,
             "#d8576b"
            ],
            [
             0.6666666666666666,
             "#ed7953"
            ],
            [
             0.7777777777777778,
             "#fb9f3a"
            ],
            [
             0.8888888888888888,
             "#fdca26"
            ],
            [
             1,
             "#f0f921"
            ]
           ],
           "sequentialminus": [
            [
             0,
             "#0d0887"
            ],
            [
             0.1111111111111111,
             "#46039f"
            ],
            [
             0.2222222222222222,
             "#7201a8"
            ],
            [
             0.3333333333333333,
             "#9c179e"
            ],
            [
             0.4444444444444444,
             "#bd3786"
            ],
            [
             0.5555555555555556,
             "#d8576b"
            ],
            [
             0.6666666666666666,
             "#ed7953"
            ],
            [
             0.7777777777777778,
             "#fb9f3a"
            ],
            [
             0.8888888888888888,
             "#fdca26"
            ],
            [
             1,
             "#f0f921"
            ]
           ]
          },
          "colorway": [
           "#636efa",
           "#EF553B",
           "#00cc96",
           "#ab63fa",
           "#FFA15A",
           "#19d3f3",
           "#FF6692",
           "#B6E880",
           "#FF97FF",
           "#FECB52"
          ],
          "font": {
           "color": "#f2f5fa"
          },
          "geo": {
           "bgcolor": "rgb(17,17,17)",
           "lakecolor": "rgb(17,17,17)",
           "landcolor": "rgb(17,17,17)",
           "showlakes": true,
           "showland": true,
           "subunitcolor": "#506784"
          },
          "hoverlabel": {
           "align": "left"
          },
          "hovermode": "closest",
          "mapbox": {
           "style": "dark"
          },
          "paper_bgcolor": "rgb(17,17,17)",
          "plot_bgcolor": "rgb(17,17,17)",
          "polar": {
           "angularaxis": {
            "gridcolor": "#506784",
            "linecolor": "#506784",
            "ticks": ""
           },
           "bgcolor": "rgb(17,17,17)",
           "radialaxis": {
            "gridcolor": "#506784",
            "linecolor": "#506784",
            "ticks": ""
           }
          },
          "scene": {
           "xaxis": {
            "backgroundcolor": "rgb(17,17,17)",
            "gridcolor": "#506784",
            "gridwidth": 2,
            "linecolor": "#506784",
            "showbackground": true,
            "ticks": "",
            "zerolinecolor": "#C8D4E3"
           },
           "yaxis": {
            "backgroundcolor": "rgb(17,17,17)",
            "gridcolor": "#506784",
            "gridwidth": 2,
            "linecolor": "#506784",
            "showbackground": true,
            "ticks": "",
            "zerolinecolor": "#C8D4E3"
           },
           "zaxis": {
            "backgroundcolor": "rgb(17,17,17)",
            "gridcolor": "#506784",
            "gridwidth": 2,
            "linecolor": "#506784",
            "showbackground": true,
            "ticks": "",
            "zerolinecolor": "#C8D4E3"
           }
          },
          "shapedefaults": {
           "line": {
            "color": "#f2f5fa"
           }
          },
          "sliderdefaults": {
           "bgcolor": "#C8D4E3",
           "bordercolor": "rgb(17,17,17)",
           "borderwidth": 1,
           "tickwidth": 0
          },
          "ternary": {
           "aaxis": {
            "gridcolor": "#506784",
            "linecolor": "#506784",
            "ticks": ""
           },
           "baxis": {
            "gridcolor": "#506784",
            "linecolor": "#506784",
            "ticks": ""
           },
           "bgcolor": "rgb(17,17,17)",
           "caxis": {
            "gridcolor": "#506784",
            "linecolor": "#506784",
            "ticks": ""
           }
          },
          "title": {
           "x": 0.05
          },
          "updatemenudefaults": {
           "bgcolor": "#506784",
           "borderwidth": 0
          },
          "xaxis": {
           "automargin": true,
           "gridcolor": "#283442",
           "linecolor": "#506784",
           "ticks": "",
           "title": {
            "standoff": 15
           },
           "zerolinecolor": "#283442",
           "zerolinewidth": 2
          },
          "yaxis": {
           "automargin": true,
           "gridcolor": "#283442",
           "linecolor": "#506784",
           "ticks": "",
           "title": {
            "standoff": 15
           },
           "zerolinecolor": "#283442",
           "zerolinewidth": 2
          }
         }
        },
        "title": {
         "text": "Allocation by stock"
        }
       }
      }
     },
     "metadata": {},
     "output_type": "display_data"
    }
   ],
   "source": [
    "pieChart = px.pie(data[['symbol', 'investment_value']], values='investment_value', names='symbol', title='Allocation by stock')\n",
    "pieChart.show()"
   ]
  },
  {
   "cell_type": "markdown",
   "metadata": {},
   "source": [
    "## Allocation by sector"
   ]
  },
  {
   "cell_type": "code",
   "execution_count": 6,
   "metadata": {},
   "outputs": [
    {
     "data": {
      "application/vnd.plotly.v1+json": {
       "config": {
        "plotlyServerURL": "https://plot.ly"
       },
       "data": [
        {
         "domain": {
          "x": [
           0,
           1
          ],
          "y": [
           0,
           1
          ]
         },
         "hovertemplate": "sector=%{label}<br>investment_value=%{value}<extra></extra>",
         "labels": [
          "Healthcare",
          "Consumer Cyclical",
          "Technology",
          "Real Estate",
          "Consumer Cyclical",
          "Technology",
          "Technology",
          "Technology",
          "Healthcare",
          "Consumer Cyclical",
          "Consumer Defensive",
          "Financial Services",
          "Basic Materials",
          "Industrials"
         ],
         "legendgroup": "",
         "name": "",
         "showlegend": true,
         "type": "pie",
         "values": [
          486.4892518,
          501.47275019999995,
          463.92456,
          469.38865020000003,
          331.47976259999996,
          300.8678283,
          249.1766985,
          218.52717379999999,
          207.277551,
          185.78084800000002,
          173.61124999999998,
          112.29899999999999,
          88.3746048,
          95.5774875
         ]
        }
       ],
       "layout": {
        "legend": {
         "tracegroupgap": 0
        },
        "template": {
         "data": {
          "bar": [
           {
            "error_x": {
             "color": "#f2f5fa"
            },
            "error_y": {
             "color": "#f2f5fa"
            },
            "marker": {
             "line": {
              "color": "rgb(17,17,17)",
              "width": 0.5
             },
             "pattern": {
              "fillmode": "overlay",
              "size": 10,
              "solidity": 0.2
             }
            },
            "type": "bar"
           }
          ],
          "barpolar": [
           {
            "marker": {
             "line": {
              "color": "rgb(17,17,17)",
              "width": 0.5
             },
             "pattern": {
              "fillmode": "overlay",
              "size": 10,
              "solidity": 0.2
             }
            },
            "type": "barpolar"
           }
          ],
          "carpet": [
           {
            "aaxis": {
             "endlinecolor": "#A2B1C6",
             "gridcolor": "#506784",
             "linecolor": "#506784",
             "minorgridcolor": "#506784",
             "startlinecolor": "#A2B1C6"
            },
            "baxis": {
             "endlinecolor": "#A2B1C6",
             "gridcolor": "#506784",
             "linecolor": "#506784",
             "minorgridcolor": "#506784",
             "startlinecolor": "#A2B1C6"
            },
            "type": "carpet"
           }
          ],
          "choropleth": [
           {
            "colorbar": {
             "outlinewidth": 0,
             "ticks": ""
            },
            "type": "choropleth"
           }
          ],
          "contour": [
           {
            "colorbar": {
             "outlinewidth": 0,
             "ticks": ""
            },
            "colorscale": [
             [
              0,
              "#0d0887"
             ],
             [
              0.1111111111111111,
              "#46039f"
             ],
             [
              0.2222222222222222,
              "#7201a8"
             ],
             [
              0.3333333333333333,
              "#9c179e"
             ],
             [
              0.4444444444444444,
              "#bd3786"
             ],
             [
              0.5555555555555556,
              "#d8576b"
             ],
             [
              0.6666666666666666,
              "#ed7953"
             ],
             [
              0.7777777777777778,
              "#fb9f3a"
             ],
             [
              0.8888888888888888,
              "#fdca26"
             ],
             [
              1,
              "#f0f921"
             ]
            ],
            "type": "contour"
           }
          ],
          "contourcarpet": [
           {
            "colorbar": {
             "outlinewidth": 0,
             "ticks": ""
            },
            "type": "contourcarpet"
           }
          ],
          "heatmap": [
           {
            "colorbar": {
             "outlinewidth": 0,
             "ticks": ""
            },
            "colorscale": [
             [
              0,
              "#0d0887"
             ],
             [
              0.1111111111111111,
              "#46039f"
             ],
             [
              0.2222222222222222,
              "#7201a8"
             ],
             [
              0.3333333333333333,
              "#9c179e"
             ],
             [
              0.4444444444444444,
              "#bd3786"
             ],
             [
              0.5555555555555556,
              "#d8576b"
             ],
             [
              0.6666666666666666,
              "#ed7953"
             ],
             [
              0.7777777777777778,
              "#fb9f3a"
             ],
             [
              0.8888888888888888,
              "#fdca26"
             ],
             [
              1,
              "#f0f921"
             ]
            ],
            "type": "heatmap"
           }
          ],
          "heatmapgl": [
           {
            "colorbar": {
             "outlinewidth": 0,
             "ticks": ""
            },
            "colorscale": [
             [
              0,
              "#0d0887"
             ],
             [
              0.1111111111111111,
              "#46039f"
             ],
             [
              0.2222222222222222,
              "#7201a8"
             ],
             [
              0.3333333333333333,
              "#9c179e"
             ],
             [
              0.4444444444444444,
              "#bd3786"
             ],
             [
              0.5555555555555556,
              "#d8576b"
             ],
             [
              0.6666666666666666,
              "#ed7953"
             ],
             [
              0.7777777777777778,
              "#fb9f3a"
             ],
             [
              0.8888888888888888,
              "#fdca26"
             ],
             [
              1,
              "#f0f921"
             ]
            ],
            "type": "heatmapgl"
           }
          ],
          "histogram": [
           {
            "marker": {
             "pattern": {
              "fillmode": "overlay",
              "size": 10,
              "solidity": 0.2
             }
            },
            "type": "histogram"
           }
          ],
          "histogram2d": [
           {
            "colorbar": {
             "outlinewidth": 0,
             "ticks": ""
            },
            "colorscale": [
             [
              0,
              "#0d0887"
             ],
             [
              0.1111111111111111,
              "#46039f"
             ],
             [
              0.2222222222222222,
              "#7201a8"
             ],
             [
              0.3333333333333333,
              "#9c179e"
             ],
             [
              0.4444444444444444,
              "#bd3786"
             ],
             [
              0.5555555555555556,
              "#d8576b"
             ],
             [
              0.6666666666666666,
              "#ed7953"
             ],
             [
              0.7777777777777778,
              "#fb9f3a"
             ],
             [
              0.8888888888888888,
              "#fdca26"
             ],
             [
              1,
              "#f0f921"
             ]
            ],
            "type": "histogram2d"
           }
          ],
          "histogram2dcontour": [
           {
            "colorbar": {
             "outlinewidth": 0,
             "ticks": ""
            },
            "colorscale": [
             [
              0,
              "#0d0887"
             ],
             [
              0.1111111111111111,
              "#46039f"
             ],
             [
              0.2222222222222222,
              "#7201a8"
             ],
             [
              0.3333333333333333,
              "#9c179e"
             ],
             [
              0.4444444444444444,
              "#bd3786"
             ],
             [
              0.5555555555555556,
              "#d8576b"
             ],
             [
              0.6666666666666666,
              "#ed7953"
             ],
             [
              0.7777777777777778,
              "#fb9f3a"
             ],
             [
              0.8888888888888888,
              "#fdca26"
             ],
             [
              1,
              "#f0f921"
             ]
            ],
            "type": "histogram2dcontour"
           }
          ],
          "mesh3d": [
           {
            "colorbar": {
             "outlinewidth": 0,
             "ticks": ""
            },
            "type": "mesh3d"
           }
          ],
          "parcoords": [
           {
            "line": {
             "colorbar": {
              "outlinewidth": 0,
              "ticks": ""
             }
            },
            "type": "parcoords"
           }
          ],
          "pie": [
           {
            "automargin": true,
            "type": "pie"
           }
          ],
          "scatter": [
           {
            "marker": {
             "line": {
              "color": "#283442"
             }
            },
            "type": "scatter"
           }
          ],
          "scatter3d": [
           {
            "line": {
             "colorbar": {
              "outlinewidth": 0,
              "ticks": ""
             }
            },
            "marker": {
             "colorbar": {
              "outlinewidth": 0,
              "ticks": ""
             }
            },
            "type": "scatter3d"
           }
          ],
          "scattercarpet": [
           {
            "marker": {
             "colorbar": {
              "outlinewidth": 0,
              "ticks": ""
             }
            },
            "type": "scattercarpet"
           }
          ],
          "scattergeo": [
           {
            "marker": {
             "colorbar": {
              "outlinewidth": 0,
              "ticks": ""
             }
            },
            "type": "scattergeo"
           }
          ],
          "scattergl": [
           {
            "marker": {
             "line": {
              "color": "#283442"
             }
            },
            "type": "scattergl"
           }
          ],
          "scattermapbox": [
           {
            "marker": {
             "colorbar": {
              "outlinewidth": 0,
              "ticks": ""
             }
            },
            "type": "scattermapbox"
           }
          ],
          "scatterpolar": [
           {
            "marker": {
             "colorbar": {
              "outlinewidth": 0,
              "ticks": ""
             }
            },
            "type": "scatterpolar"
           }
          ],
          "scatterpolargl": [
           {
            "marker": {
             "colorbar": {
              "outlinewidth": 0,
              "ticks": ""
             }
            },
            "type": "scatterpolargl"
           }
          ],
          "scatterternary": [
           {
            "marker": {
             "colorbar": {
              "outlinewidth": 0,
              "ticks": ""
             }
            },
            "type": "scatterternary"
           }
          ],
          "surface": [
           {
            "colorbar": {
             "outlinewidth": 0,
             "ticks": ""
            },
            "colorscale": [
             [
              0,
              "#0d0887"
             ],
             [
              0.1111111111111111,
              "#46039f"
             ],
             [
              0.2222222222222222,
              "#7201a8"
             ],
             [
              0.3333333333333333,
              "#9c179e"
             ],
             [
              0.4444444444444444,
              "#bd3786"
             ],
             [
              0.5555555555555556,
              "#d8576b"
             ],
             [
              0.6666666666666666,
              "#ed7953"
             ],
             [
              0.7777777777777778,
              "#fb9f3a"
             ],
             [
              0.8888888888888888,
              "#fdca26"
             ],
             [
              1,
              "#f0f921"
             ]
            ],
            "type": "surface"
           }
          ],
          "table": [
           {
            "cells": {
             "fill": {
              "color": "#506784"
             },
             "line": {
              "color": "rgb(17,17,17)"
             }
            },
            "header": {
             "fill": {
              "color": "#2a3f5f"
             },
             "line": {
              "color": "rgb(17,17,17)"
             }
            },
            "type": "table"
           }
          ]
         },
         "layout": {
          "annotationdefaults": {
           "arrowcolor": "#f2f5fa",
           "arrowhead": 0,
           "arrowwidth": 1
          },
          "autotypenumbers": "strict",
          "coloraxis": {
           "colorbar": {
            "outlinewidth": 0,
            "ticks": ""
           }
          },
          "colorscale": {
           "diverging": [
            [
             0,
             "#8e0152"
            ],
            [
             0.1,
             "#c51b7d"
            ],
            [
             0.2,
             "#de77ae"
            ],
            [
             0.3,
             "#f1b6da"
            ],
            [
             0.4,
             "#fde0ef"
            ],
            [
             0.5,
             "#f7f7f7"
            ],
            [
             0.6,
             "#e6f5d0"
            ],
            [
             0.7,
             "#b8e186"
            ],
            [
             0.8,
             "#7fbc41"
            ],
            [
             0.9,
             "#4d9221"
            ],
            [
             1,
             "#276419"
            ]
           ],
           "sequential": [
            [
             0,
             "#0d0887"
            ],
            [
             0.1111111111111111,
             "#46039f"
            ],
            [
             0.2222222222222222,
             "#7201a8"
            ],
            [
             0.3333333333333333,
             "#9c179e"
            ],
            [
             0.4444444444444444,
             "#bd3786"
            ],
            [
             0.5555555555555556,
             "#d8576b"
            ],
            [
             0.6666666666666666,
             "#ed7953"
            ],
            [
             0.7777777777777778,
             "#fb9f3a"
            ],
            [
             0.8888888888888888,
             "#fdca26"
            ],
            [
             1,
             "#f0f921"
            ]
           ],
           "sequentialminus": [
            [
             0,
             "#0d0887"
            ],
            [
             0.1111111111111111,
             "#46039f"
            ],
            [
             0.2222222222222222,
             "#7201a8"
            ],
            [
             0.3333333333333333,
             "#9c179e"
            ],
            [
             0.4444444444444444,
             "#bd3786"
            ],
            [
             0.5555555555555556,
             "#d8576b"
            ],
            [
             0.6666666666666666,
             "#ed7953"
            ],
            [
             0.7777777777777778,
             "#fb9f3a"
            ],
            [
             0.8888888888888888,
             "#fdca26"
            ],
            [
             1,
             "#f0f921"
            ]
           ]
          },
          "colorway": [
           "#636efa",
           "#EF553B",
           "#00cc96",
           "#ab63fa",
           "#FFA15A",
           "#19d3f3",
           "#FF6692",
           "#B6E880",
           "#FF97FF",
           "#FECB52"
          ],
          "font": {
           "color": "#f2f5fa"
          },
          "geo": {
           "bgcolor": "rgb(17,17,17)",
           "lakecolor": "rgb(17,17,17)",
           "landcolor": "rgb(17,17,17)",
           "showlakes": true,
           "showland": true,
           "subunitcolor": "#506784"
          },
          "hoverlabel": {
           "align": "left"
          },
          "hovermode": "closest",
          "mapbox": {
           "style": "dark"
          },
          "paper_bgcolor": "rgb(17,17,17)",
          "plot_bgcolor": "rgb(17,17,17)",
          "polar": {
           "angularaxis": {
            "gridcolor": "#506784",
            "linecolor": "#506784",
            "ticks": ""
           },
           "bgcolor": "rgb(17,17,17)",
           "radialaxis": {
            "gridcolor": "#506784",
            "linecolor": "#506784",
            "ticks": ""
           }
          },
          "scene": {
           "xaxis": {
            "backgroundcolor": "rgb(17,17,17)",
            "gridcolor": "#506784",
            "gridwidth": 2,
            "linecolor": "#506784",
            "showbackground": true,
            "ticks": "",
            "zerolinecolor": "#C8D4E3"
           },
           "yaxis": {
            "backgroundcolor": "rgb(17,17,17)",
            "gridcolor": "#506784",
            "gridwidth": 2,
            "linecolor": "#506784",
            "showbackground": true,
            "ticks": "",
            "zerolinecolor": "#C8D4E3"
           },
           "zaxis": {
            "backgroundcolor": "rgb(17,17,17)",
            "gridcolor": "#506784",
            "gridwidth": 2,
            "linecolor": "#506784",
            "showbackground": true,
            "ticks": "",
            "zerolinecolor": "#C8D4E3"
           }
          },
          "shapedefaults": {
           "line": {
            "color": "#f2f5fa"
           }
          },
          "sliderdefaults": {
           "bgcolor": "#C8D4E3",
           "bordercolor": "rgb(17,17,17)",
           "borderwidth": 1,
           "tickwidth": 0
          },
          "ternary": {
           "aaxis": {
            "gridcolor": "#506784",
            "linecolor": "#506784",
            "ticks": ""
           },
           "baxis": {
            "gridcolor": "#506784",
            "linecolor": "#506784",
            "ticks": ""
           },
           "bgcolor": "rgb(17,17,17)",
           "caxis": {
            "gridcolor": "#506784",
            "linecolor": "#506784",
            "ticks": ""
           }
          },
          "title": {
           "x": 0.05
          },
          "updatemenudefaults": {
           "bgcolor": "#506784",
           "borderwidth": 0
          },
          "xaxis": {
           "automargin": true,
           "gridcolor": "#283442",
           "linecolor": "#506784",
           "ticks": "",
           "title": {
            "standoff": 15
           },
           "zerolinecolor": "#283442",
           "zerolinewidth": 2
          },
          "yaxis": {
           "automargin": true,
           "gridcolor": "#283442",
           "linecolor": "#506784",
           "ticks": "",
           "title": {
            "standoff": 15
           },
           "zerolinecolor": "#283442",
           "zerolinewidth": 2
          }
         }
        },
        "title": {
         "text": "Allocation by sector"
        }
       }
      }
     },
     "metadata": {},
     "output_type": "display_data"
    }
   ],
   "source": [
    "pieChart = px.pie(data[['sector', 'investment_value']], values='investment_value', names='sector', title='Allocation by sector')\n",
    "pieChart.show()"
   ]
  },
  {
   "cell_type": "markdown",
   "metadata": {},
   "source": [
    "## Allocation by industry"
   ]
  },
  {
   "cell_type": "code",
   "execution_count": 7,
   "metadata": {},
   "outputs": [
    {
     "data": {
      "application/vnd.plotly.v1+json": {
       "config": {
        "plotlyServerURL": "https://plot.ly"
       },
       "data": [
        {
         "domain": {
          "x": [
           0,
           1
          ],
          "y": [
           0,
           1
          ]
         },
         "hovertemplate": "industry=%{label}<br>investment_value=%{value}<extra></extra>",
         "labels": [
          "Biotechnology",
          "Internet Retail",
          "Semiconductors",
          "REIT - Industrial",
          "Apparel Retail",
          "Solar",
          "Semiconductor Equipment & Materials",
          "Semiconductor Equipment & Materials",
          "Drug Manufacturers - General",
          "Internet Retail",
          "Household & Personal Products",
          "Credit Services",
          "Steel",
          "Engineering & Construction"
         ],
         "legendgroup": "",
         "name": "",
         "showlegend": true,
         "type": "pie",
         "values": [
          486.4892518,
          501.47275019999995,
          463.92456,
          469.38865020000003,
          331.47976259999996,
          300.8678283,
          249.1766985,
          218.52717379999999,
          207.277551,
          185.78084800000002,
          173.61124999999998,
          112.29899999999999,
          88.3746048,
          95.5774875
         ]
        }
       ],
       "layout": {
        "legend": {
         "tracegroupgap": 0
        },
        "template": {
         "data": {
          "bar": [
           {
            "error_x": {
             "color": "#f2f5fa"
            },
            "error_y": {
             "color": "#f2f5fa"
            },
            "marker": {
             "line": {
              "color": "rgb(17,17,17)",
              "width": 0.5
             },
             "pattern": {
              "fillmode": "overlay",
              "size": 10,
              "solidity": 0.2
             }
            },
            "type": "bar"
           }
          ],
          "barpolar": [
           {
            "marker": {
             "line": {
              "color": "rgb(17,17,17)",
              "width": 0.5
             },
             "pattern": {
              "fillmode": "overlay",
              "size": 10,
              "solidity": 0.2
             }
            },
            "type": "barpolar"
           }
          ],
          "carpet": [
           {
            "aaxis": {
             "endlinecolor": "#A2B1C6",
             "gridcolor": "#506784",
             "linecolor": "#506784",
             "minorgridcolor": "#506784",
             "startlinecolor": "#A2B1C6"
            },
            "baxis": {
             "endlinecolor": "#A2B1C6",
             "gridcolor": "#506784",
             "linecolor": "#506784",
             "minorgridcolor": "#506784",
             "startlinecolor": "#A2B1C6"
            },
            "type": "carpet"
           }
          ],
          "choropleth": [
           {
            "colorbar": {
             "outlinewidth": 0,
             "ticks": ""
            },
            "type": "choropleth"
           }
          ],
          "contour": [
           {
            "colorbar": {
             "outlinewidth": 0,
             "ticks": ""
            },
            "colorscale": [
             [
              0,
              "#0d0887"
             ],
             [
              0.1111111111111111,
              "#46039f"
             ],
             [
              0.2222222222222222,
              "#7201a8"
             ],
             [
              0.3333333333333333,
              "#9c179e"
             ],
             [
              0.4444444444444444,
              "#bd3786"
             ],
             [
              0.5555555555555556,
              "#d8576b"
             ],
             [
              0.6666666666666666,
              "#ed7953"
             ],
             [
              0.7777777777777778,
              "#fb9f3a"
             ],
             [
              0.8888888888888888,
              "#fdca26"
             ],
             [
              1,
              "#f0f921"
             ]
            ],
            "type": "contour"
           }
          ],
          "contourcarpet": [
           {
            "colorbar": {
             "outlinewidth": 0,
             "ticks": ""
            },
            "type": "contourcarpet"
           }
          ],
          "heatmap": [
           {
            "colorbar": {
             "outlinewidth": 0,
             "ticks": ""
            },
            "colorscale": [
             [
              0,
              "#0d0887"
             ],
             [
              0.1111111111111111,
              "#46039f"
             ],
             [
              0.2222222222222222,
              "#7201a8"
             ],
             [
              0.3333333333333333,
              "#9c179e"
             ],
             [
              0.4444444444444444,
              "#bd3786"
             ],
             [
              0.5555555555555556,
              "#d8576b"
             ],
             [
              0.6666666666666666,
              "#ed7953"
             ],
             [
              0.7777777777777778,
              "#fb9f3a"
             ],
             [
              0.8888888888888888,
              "#fdca26"
             ],
             [
              1,
              "#f0f921"
             ]
            ],
            "type": "heatmap"
           }
          ],
          "heatmapgl": [
           {
            "colorbar": {
             "outlinewidth": 0,
             "ticks": ""
            },
            "colorscale": [
             [
              0,
              "#0d0887"
             ],
             [
              0.1111111111111111,
              "#46039f"
             ],
             [
              0.2222222222222222,
              "#7201a8"
             ],
             [
              0.3333333333333333,
              "#9c179e"
             ],
             [
              0.4444444444444444,
              "#bd3786"
             ],
             [
              0.5555555555555556,
              "#d8576b"
             ],
             [
              0.6666666666666666,
              "#ed7953"
             ],
             [
              0.7777777777777778,
              "#fb9f3a"
             ],
             [
              0.8888888888888888,
              "#fdca26"
             ],
             [
              1,
              "#f0f921"
             ]
            ],
            "type": "heatmapgl"
           }
          ],
          "histogram": [
           {
            "marker": {
             "pattern": {
              "fillmode": "overlay",
              "size": 10,
              "solidity": 0.2
             }
            },
            "type": "histogram"
           }
          ],
          "histogram2d": [
           {
            "colorbar": {
             "outlinewidth": 0,
             "ticks": ""
            },
            "colorscale": [
             [
              0,
              "#0d0887"
             ],
             [
              0.1111111111111111,
              "#46039f"
             ],
             [
              0.2222222222222222,
              "#7201a8"
             ],
             [
              0.3333333333333333,
              "#9c179e"
             ],
             [
              0.4444444444444444,
              "#bd3786"
             ],
             [
              0.5555555555555556,
              "#d8576b"
             ],
             [
              0.6666666666666666,
              "#ed7953"
             ],
             [
              0.7777777777777778,
              "#fb9f3a"
             ],
             [
              0.8888888888888888,
              "#fdca26"
             ],
             [
              1,
              "#f0f921"
             ]
            ],
            "type": "histogram2d"
           }
          ],
          "histogram2dcontour": [
           {
            "colorbar": {
             "outlinewidth": 0,
             "ticks": ""
            },
            "colorscale": [
             [
              0,
              "#0d0887"
             ],
             [
              0.1111111111111111,
              "#46039f"
             ],
             [
              0.2222222222222222,
              "#7201a8"
             ],
             [
              0.3333333333333333,
              "#9c179e"
             ],
             [
              0.4444444444444444,
              "#bd3786"
             ],
             [
              0.5555555555555556,
              "#d8576b"
             ],
             [
              0.6666666666666666,
              "#ed7953"
             ],
             [
              0.7777777777777778,
              "#fb9f3a"
             ],
             [
              0.8888888888888888,
              "#fdca26"
             ],
             [
              1,
              "#f0f921"
             ]
            ],
            "type": "histogram2dcontour"
           }
          ],
          "mesh3d": [
           {
            "colorbar": {
             "outlinewidth": 0,
             "ticks": ""
            },
            "type": "mesh3d"
           }
          ],
          "parcoords": [
           {
            "line": {
             "colorbar": {
              "outlinewidth": 0,
              "ticks": ""
             }
            },
            "type": "parcoords"
           }
          ],
          "pie": [
           {
            "automargin": true,
            "type": "pie"
           }
          ],
          "scatter": [
           {
            "marker": {
             "line": {
              "color": "#283442"
             }
            },
            "type": "scatter"
           }
          ],
          "scatter3d": [
           {
            "line": {
             "colorbar": {
              "outlinewidth": 0,
              "ticks": ""
             }
            },
            "marker": {
             "colorbar": {
              "outlinewidth": 0,
              "ticks": ""
             }
            },
            "type": "scatter3d"
           }
          ],
          "scattercarpet": [
           {
            "marker": {
             "colorbar": {
              "outlinewidth": 0,
              "ticks": ""
             }
            },
            "type": "scattercarpet"
           }
          ],
          "scattergeo": [
           {
            "marker": {
             "colorbar": {
              "outlinewidth": 0,
              "ticks": ""
             }
            },
            "type": "scattergeo"
           }
          ],
          "scattergl": [
           {
            "marker": {
             "line": {
              "color": "#283442"
             }
            },
            "type": "scattergl"
           }
          ],
          "scattermapbox": [
           {
            "marker": {
             "colorbar": {
              "outlinewidth": 0,
              "ticks": ""
             }
            },
            "type": "scattermapbox"
           }
          ],
          "scatterpolar": [
           {
            "marker": {
             "colorbar": {
              "outlinewidth": 0,
              "ticks": ""
             }
            },
            "type": "scatterpolar"
           }
          ],
          "scatterpolargl": [
           {
            "marker": {
             "colorbar": {
              "outlinewidth": 0,
              "ticks": ""
             }
            },
            "type": "scatterpolargl"
           }
          ],
          "scatterternary": [
           {
            "marker": {
             "colorbar": {
              "outlinewidth": 0,
              "ticks": ""
             }
            },
            "type": "scatterternary"
           }
          ],
          "surface": [
           {
            "colorbar": {
             "outlinewidth": 0,
             "ticks": ""
            },
            "colorscale": [
             [
              0,
              "#0d0887"
             ],
             [
              0.1111111111111111,
              "#46039f"
             ],
             [
              0.2222222222222222,
              "#7201a8"
             ],
             [
              0.3333333333333333,
              "#9c179e"
             ],
             [
              0.4444444444444444,
              "#bd3786"
             ],
             [
              0.5555555555555556,
              "#d8576b"
             ],
             [
              0.6666666666666666,
              "#ed7953"
             ],
             [
              0.7777777777777778,
              "#fb9f3a"
             ],
             [
              0.8888888888888888,
              "#fdca26"
             ],
             [
              1,
              "#f0f921"
             ]
            ],
            "type": "surface"
           }
          ],
          "table": [
           {
            "cells": {
             "fill": {
              "color": "#506784"
             },
             "line": {
              "color": "rgb(17,17,17)"
             }
            },
            "header": {
             "fill": {
              "color": "#2a3f5f"
             },
             "line": {
              "color": "rgb(17,17,17)"
             }
            },
            "type": "table"
           }
          ]
         },
         "layout": {
          "annotationdefaults": {
           "arrowcolor": "#f2f5fa",
           "arrowhead": 0,
           "arrowwidth": 1
          },
          "autotypenumbers": "strict",
          "coloraxis": {
           "colorbar": {
            "outlinewidth": 0,
            "ticks": ""
           }
          },
          "colorscale": {
           "diverging": [
            [
             0,
             "#8e0152"
            ],
            [
             0.1,
             "#c51b7d"
            ],
            [
             0.2,
             "#de77ae"
            ],
            [
             0.3,
             "#f1b6da"
            ],
            [
             0.4,
             "#fde0ef"
            ],
            [
             0.5,
             "#f7f7f7"
            ],
            [
             0.6,
             "#e6f5d0"
            ],
            [
             0.7,
             "#b8e186"
            ],
            [
             0.8,
             "#7fbc41"
            ],
            [
             0.9,
             "#4d9221"
            ],
            [
             1,
             "#276419"
            ]
           ],
           "sequential": [
            [
             0,
             "#0d0887"
            ],
            [
             0.1111111111111111,
             "#46039f"
            ],
            [
             0.2222222222222222,
             "#7201a8"
            ],
            [
             0.3333333333333333,
             "#9c179e"
            ],
            [
             0.4444444444444444,
             "#bd3786"
            ],
            [
             0.5555555555555556,
             "#d8576b"
            ],
            [
             0.6666666666666666,
             "#ed7953"
            ],
            [
             0.7777777777777778,
             "#fb9f3a"
            ],
            [
             0.8888888888888888,
             "#fdca26"
            ],
            [
             1,
             "#f0f921"
            ]
           ],
           "sequentialminus": [
            [
             0,
             "#0d0887"
            ],
            [
             0.1111111111111111,
             "#46039f"
            ],
            [
             0.2222222222222222,
             "#7201a8"
            ],
            [
             0.3333333333333333,
             "#9c179e"
            ],
            [
             0.4444444444444444,
             "#bd3786"
            ],
            [
             0.5555555555555556,
             "#d8576b"
            ],
            [
             0.6666666666666666,
             "#ed7953"
            ],
            [
             0.7777777777777778,
             "#fb9f3a"
            ],
            [
             0.8888888888888888,
             "#fdca26"
            ],
            [
             1,
             "#f0f921"
            ]
           ]
          },
          "colorway": [
           "#636efa",
           "#EF553B",
           "#00cc96",
           "#ab63fa",
           "#FFA15A",
           "#19d3f3",
           "#FF6692",
           "#B6E880",
           "#FF97FF",
           "#FECB52"
          ],
          "font": {
           "color": "#f2f5fa"
          },
          "geo": {
           "bgcolor": "rgb(17,17,17)",
           "lakecolor": "rgb(17,17,17)",
           "landcolor": "rgb(17,17,17)",
           "showlakes": true,
           "showland": true,
           "subunitcolor": "#506784"
          },
          "hoverlabel": {
           "align": "left"
          },
          "hovermode": "closest",
          "mapbox": {
           "style": "dark"
          },
          "paper_bgcolor": "rgb(17,17,17)",
          "plot_bgcolor": "rgb(17,17,17)",
          "polar": {
           "angularaxis": {
            "gridcolor": "#506784",
            "linecolor": "#506784",
            "ticks": ""
           },
           "bgcolor": "rgb(17,17,17)",
           "radialaxis": {
            "gridcolor": "#506784",
            "linecolor": "#506784",
            "ticks": ""
           }
          },
          "scene": {
           "xaxis": {
            "backgroundcolor": "rgb(17,17,17)",
            "gridcolor": "#506784",
            "gridwidth": 2,
            "linecolor": "#506784",
            "showbackground": true,
            "ticks": "",
            "zerolinecolor": "#C8D4E3"
           },
           "yaxis": {
            "backgroundcolor": "rgb(17,17,17)",
            "gridcolor": "#506784",
            "gridwidth": 2,
            "linecolor": "#506784",
            "showbackground": true,
            "ticks": "",
            "zerolinecolor": "#C8D4E3"
           },
           "zaxis": {
            "backgroundcolor": "rgb(17,17,17)",
            "gridcolor": "#506784",
            "gridwidth": 2,
            "linecolor": "#506784",
            "showbackground": true,
            "ticks": "",
            "zerolinecolor": "#C8D4E3"
           }
          },
          "shapedefaults": {
           "line": {
            "color": "#f2f5fa"
           }
          },
          "sliderdefaults": {
           "bgcolor": "#C8D4E3",
           "bordercolor": "rgb(17,17,17)",
           "borderwidth": 1,
           "tickwidth": 0
          },
          "ternary": {
           "aaxis": {
            "gridcolor": "#506784",
            "linecolor": "#506784",
            "ticks": ""
           },
           "baxis": {
            "gridcolor": "#506784",
            "linecolor": "#506784",
            "ticks": ""
           },
           "bgcolor": "rgb(17,17,17)",
           "caxis": {
            "gridcolor": "#506784",
            "linecolor": "#506784",
            "ticks": ""
           }
          },
          "title": {
           "x": 0.05
          },
          "updatemenudefaults": {
           "bgcolor": "#506784",
           "borderwidth": 0
          },
          "xaxis": {
           "automargin": true,
           "gridcolor": "#283442",
           "linecolor": "#506784",
           "ticks": "",
           "title": {
            "standoff": 15
           },
           "zerolinecolor": "#283442",
           "zerolinewidth": 2
          },
          "yaxis": {
           "automargin": true,
           "gridcolor": "#283442",
           "linecolor": "#506784",
           "ticks": "",
           "title": {
            "standoff": 15
           },
           "zerolinecolor": "#283442",
           "zerolinewidth": 2
          }
         }
        },
        "title": {
         "text": "Allocation by industry"
        }
       }
      }
     },
     "metadata": {},
     "output_type": "display_data"
    }
   ],
   "source": [
    "pieChart = px.pie(data[['industry', 'investment_value']], values='investment_value', names='industry', title='Allocation by industry')\n",
    "pieChart.show()"
   ]
  },
  {
   "cell_type": "markdown",
   "metadata": {},
   "source": [
    "# Portofolio valuation"
   ]
  },
  {
   "cell_type": "code",
   "execution_count": 21,
   "metadata": {},
   "outputs": [
    {
     "data": {
      "text/html": [
       "<div>\n",
       "<style scoped>\n",
       "    .dataframe tbody tr th:only-of-type {\n",
       "        vertical-align: middle;\n",
       "    }\n",
       "\n",
       "    .dataframe tbody tr th {\n",
       "        vertical-align: top;\n",
       "    }\n",
       "\n",
       "    .dataframe thead th {\n",
       "        text-align: right;\n",
       "    }\n",
       "</style>\n",
       "<table border=\"1\" class=\"dataframe\">\n",
       "  <thead>\n",
       "    <tr style=\"text-align: right;\">\n",
       "      <th></th>\n",
       "      <th>symbol</th>\n",
       "      <th>marketCap</th>\n",
       "      <th>enterpriseValue</th>\n",
       "      <th>trailingEps</th>\n",
       "      <th>forwardEps</th>\n",
       "      <th>trailingPE</th>\n",
       "      <th>forwardPE</th>\n",
       "      <th>trailingPegRatio</th>\n",
       "      <th>priceToSalesTrailing12Months</th>\n",
       "      <th>priceToBook</th>\n",
       "      <th>enterpriseToRevenue</th>\n",
       "      <th>enterpriseToEbitda</th>\n",
       "      <th>current</th>\n",
       "      <th>shares</th>\n",
       "    </tr>\n",
       "  </thead>\n",
       "  <tbody>\n",
       "    <tr>\n",
       "      <th>0</th>\n",
       "      <td>REGN</td>\n",
       "      <td>77829595136</td>\n",
       "      <td>69107785728</td>\n",
       "      <td>40.440</td>\n",
       "      <td>45.310</td>\n",
       "      <td>17.514</td>\n",
       "      <td>15.581</td>\n",
       "      <td>1.054</td>\n",
       "      <td>5.621</td>\n",
       "      <td>2.603</td>\n",
       "      <td>4.991</td>\n",
       "      <td>15.030</td>\n",
       "      <td>708.250</td>\n",
       "      <td>0.671</td>\n",
       "    </tr>\n",
       "    <tr>\n",
       "      <th>1</th>\n",
       "      <td>CART</td>\n",
       "      <td>10807572480</td>\n",
       "      <td>9827896320</td>\n",
       "      <td>10.550</td>\n",
       "      <td>1.340</td>\n",
       "      <td>3.988</td>\n",
       "      <td>13.546</td>\n",
       "      <td>NaN</td>\n",
       "      <td>3.277</td>\n",
       "      <td>3.803</td>\n",
       "      <td>2.980</td>\n",
       "      <td>23.400</td>\n",
       "      <td>42.070</td>\n",
       "      <td>11.777</td>\n",
       "    </tr>\n",
       "    <tr>\n",
       "      <th>2</th>\n",
       "      <td>NVDA</td>\n",
       "      <td>3200353042432</td>\n",
       "      <td>3553896693760</td>\n",
       "      <td>2.540</td>\n",
       "      <td>4.120</td>\n",
       "      <td>51.449</td>\n",
       "      <td>29.493</td>\n",
       "      <td>0.810</td>\n",
       "      <td>33.231</td>\n",
       "      <td>74.931</td>\n",
       "      <td>36.902</td>\n",
       "      <td>58.085</td>\n",
       "      <td>130.680</td>\n",
       "      <td>3.515</td>\n",
       "    </tr>\n",
       "    <tr>\n",
       "      <th>3</th>\n",
       "      <td>PLD</td>\n",
       "      <td>93914144768</td>\n",
       "      <td>130703835136</td>\n",
       "      <td>3.310</td>\n",
       "      <td>3.520</td>\n",
       "      <td>30.634</td>\n",
       "      <td>37.845</td>\n",
       "      <td>0.461</td>\n",
       "      <td>11.398</td>\n",
       "      <td>1.772</td>\n",
       "      <td>15.864</td>\n",
       "      <td>22.774</td>\n",
       "      <td>101.400</td>\n",
       "      <td>4.311</td>\n",
       "    </tr>\n",
       "    <tr>\n",
       "      <th>4</th>\n",
       "      <td>BOOT</td>\n",
       "      <td>4465241088</td>\n",
       "      <td>4944464896</td>\n",
       "      <td>4.970</td>\n",
       "      <td>6.590</td>\n",
       "      <td>29.433</td>\n",
       "      <td>22.207</td>\n",
       "      <td>NaN</td>\n",
       "      <td>2.540</td>\n",
       "      <td>4.392</td>\n",
       "      <td>2.812</td>\n",
       "      <td>18.864</td>\n",
       "      <td>146.280</td>\n",
       "      <td>2.226</td>\n",
       "    </tr>\n",
       "    <tr>\n",
       "      <th>5</th>\n",
       "      <td>FSLR</td>\n",
       "      <td>18829361152</td>\n",
       "      <td>18253635584</td>\n",
       "      <td>11.610</td>\n",
       "      <td>20.860</td>\n",
       "      <td>15.149</td>\n",
       "      <td>8.363</td>\n",
       "      <td>0.257</td>\n",
       "      <td>4.890</td>\n",
       "      <td>2.480</td>\n",
       "      <td>4.740</td>\n",
       "      <td>10.631</td>\n",
       "      <td>175.880</td>\n",
       "      <td>1.579</td>\n",
       "    </tr>\n",
       "    <tr>\n",
       "      <th>6</th>\n",
       "      <td>AMAT</td>\n",
       "      <td>131361308672</td>\n",
       "      <td>150907158528</td>\n",
       "      <td>8.600</td>\n",
       "      <td>9.690</td>\n",
       "      <td>18.772</td>\n",
       "      <td>15.249</td>\n",
       "      <td>1.616</td>\n",
       "      <td>4.892</td>\n",
       "      <td>7.064</td>\n",
       "      <td>5.620</td>\n",
       "      <td>18.394</td>\n",
       "      <td>161.440</td>\n",
       "      <td>1.471</td>\n",
       "    </tr>\n",
       "    <tr>\n",
       "      <th>7</th>\n",
       "      <td>ASML</td>\n",
       "      <td>295995899904</td>\n",
       "      <td>278981935104</td>\n",
       "      <td>18.470</td>\n",
       "      <td>26.700</td>\n",
       "      <td>38.455</td>\n",
       "      <td>30.459</td>\n",
       "      <td>1.811</td>\n",
       "      <td>11.282</td>\n",
       "      <td>17.291</td>\n",
       "      <td>10.633</td>\n",
       "      <td>31.469</td>\n",
       "      <td>710.260</td>\n",
       "      <td>0.303</td>\n",
       "    </tr>\n",
       "    <tr>\n",
       "      <th>8</th>\n",
       "      <td>ABBV</td>\n",
       "      <td>303099871232</td>\n",
       "      <td>367176908800</td>\n",
       "      <td>2.860</td>\n",
       "      <td>12.130</td>\n",
       "      <td>59.972</td>\n",
       "      <td>14.088</td>\n",
       "      <td>0.410</td>\n",
       "      <td>5.458</td>\n",
       "      <td>50.255</td>\n",
       "      <td>6.612</td>\n",
       "      <td>14.326</td>\n",
       "      <td>171.520</td>\n",
       "      <td>1.208</td>\n",
       "    </tr>\n",
       "    <tr>\n",
       "      <th>9</th>\n",
       "      <td>MELI</td>\n",
       "      <td>84461871104</td>\n",
       "      <td>84128825344</td>\n",
       "      <td>28.160</td>\n",
       "      <td>48.380</td>\n",
       "      <td>59.162</td>\n",
       "      <td>35.555</td>\n",
       "      <td>1.008</td>\n",
       "      <td>4.567</td>\n",
       "      <td>21.105</td>\n",
       "      <td>4.549</td>\n",
       "      <td>31.010</td>\n",
       "      <td>1,666.000</td>\n",
       "      <td>0.103</td>\n",
       "    </tr>\n",
       "    <tr>\n",
       "      <th>10</th>\n",
       "      <td>HIMS</td>\n",
       "      <td>5759106560</td>\n",
       "      <td>5516396544</td>\n",
       "      <td>0.440</td>\n",
       "      <td>0.460</td>\n",
       "      <td>59.909</td>\n",
       "      <td>28.223</td>\n",
       "      <td>NaN</td>\n",
       "      <td>4.637</td>\n",
       "      <td>13.050</td>\n",
       "      <td>4.442</td>\n",
       "      <td>92.368</td>\n",
       "      <td>26.360</td>\n",
       "      <td>5.556</td>\n",
       "    </tr>\n",
       "    <tr>\n",
       "      <th>11</th>\n",
       "      <td>PYPL</td>\n",
       "      <td>87000424448</td>\n",
       "      <td>88339316736</td>\n",
       "      <td>4.180</td>\n",
       "      <td>4.890</td>\n",
       "      <td>20.761</td>\n",
       "      <td>17.758</td>\n",
       "      <td>1.453</td>\n",
       "      <td>2.766</td>\n",
       "      <td>4.327</td>\n",
       "      <td>2.808</td>\n",
       "      <td>14.432</td>\n",
       "      <td>86.780</td>\n",
       "      <td>1.230</td>\n",
       "    </tr>\n",
       "    <tr>\n",
       "      <th>12</th>\n",
       "      <td>NUE</td>\n",
       "      <td>27186647040</td>\n",
       "      <td>30504140800</td>\n",
       "      <td>10.390</td>\n",
       "      <td>9.360</td>\n",
       "      <td>11.143</td>\n",
       "      <td>13.632</td>\n",
       "      <td>NaN</td>\n",
       "      <td>0.867</td>\n",
       "      <td>1.328</td>\n",
       "      <td>0.973</td>\n",
       "      <td>6.175</td>\n",
       "      <td>115.780</td>\n",
       "      <td>0.712</td>\n",
       "    </tr>\n",
       "    <tr>\n",
       "      <th>13</th>\n",
       "      <td>EME</td>\n",
       "      <td>21358774272</td>\n",
       "      <td>20680321024</td>\n",
       "      <td>19.690</td>\n",
       "      <td>22.310</td>\n",
       "      <td>23.580</td>\n",
       "      <td>20.396</td>\n",
       "      <td>NaN</td>\n",
       "      <td>1.500</td>\n",
       "      <td>7.743</td>\n",
       "      <td>1.453</td>\n",
       "      <td>15.036</td>\n",
       "      <td>464.300</td>\n",
       "      <td>0.197</td>\n",
       "    </tr>\n",
       "  </tbody>\n",
       "</table>\n",
       "</div>"
      ],
      "text/plain": [
       "   symbol      marketCap  enterpriseValue  trailingEps  forwardEps  \\\n",
       "0    REGN    77829595136      69107785728       40.440      45.310   \n",
       "1    CART    10807572480       9827896320       10.550       1.340   \n",
       "2    NVDA  3200353042432    3553896693760        2.540       4.120   \n",
       "3     PLD    93914144768     130703835136        3.310       3.520   \n",
       "4    BOOT     4465241088       4944464896        4.970       6.590   \n",
       "5    FSLR    18829361152      18253635584       11.610      20.860   \n",
       "6    AMAT   131361308672     150907158528        8.600       9.690   \n",
       "7    ASML   295995899904     278981935104       18.470      26.700   \n",
       "8    ABBV   303099871232     367176908800        2.860      12.130   \n",
       "9    MELI    84461871104      84128825344       28.160      48.380   \n",
       "10   HIMS     5759106560       5516396544        0.440       0.460   \n",
       "11   PYPL    87000424448      88339316736        4.180       4.890   \n",
       "12    NUE    27186647040      30504140800       10.390       9.360   \n",
       "13    EME    21358774272      20680321024       19.690      22.310   \n",
       "\n",
       "    trailingPE  forwardPE  trailingPegRatio  priceToSalesTrailing12Months  \\\n",
       "0       17.514     15.581             1.054                         5.621   \n",
       "1        3.988     13.546               NaN                         3.277   \n",
       "2       51.449     29.493             0.810                        33.231   \n",
       "3       30.634     37.845             0.461                        11.398   \n",
       "4       29.433     22.207               NaN                         2.540   \n",
       "5       15.149      8.363             0.257                         4.890   \n",
       "6       18.772     15.249             1.616                         4.892   \n",
       "7       38.455     30.459             1.811                        11.282   \n",
       "8       59.972     14.088             0.410                         5.458   \n",
       "9       59.162     35.555             1.008                         4.567   \n",
       "10      59.909     28.223               NaN                         4.637   \n",
       "11      20.761     17.758             1.453                         2.766   \n",
       "12      11.143     13.632               NaN                         0.867   \n",
       "13      23.580     20.396               NaN                         1.500   \n",
       "\n",
       "    priceToBook  enterpriseToRevenue  enterpriseToEbitda   current  shares  \n",
       "0         2.603                4.991              15.030   708.250   0.671  \n",
       "1         3.803                2.980              23.400    42.070  11.777  \n",
       "2        74.931               36.902              58.085   130.680   3.515  \n",
       "3         1.772               15.864              22.774   101.400   4.311  \n",
       "4         4.392                2.812              18.864   146.280   2.226  \n",
       "5         2.480                4.740              10.631   175.880   1.579  \n",
       "6         7.064                5.620              18.394   161.440   1.471  \n",
       "7        17.291               10.633              31.469   710.260   0.303  \n",
       "8        50.255                6.612              14.326   171.520   1.208  \n",
       "9        21.105                4.549              31.010 1,666.000   0.103  \n",
       "10       13.050                4.442              92.368    26.360   5.556  \n",
       "11        4.327                2.808              14.432    86.780   1.230  \n",
       "12        1.328                0.973               6.175   115.780   0.712  \n",
       "13        7.743                1.453              15.036   464.300   0.197  "
      ]
     },
     "execution_count": 21,
     "metadata": {},
     "output_type": "execute_result"
    }
   ],
   "source": [
    "valuation_metrics = ['marketCap', 'enterpriseValue', 'trailingEps', 'forwardEps', 'trailingPE',\n",
    "                     'forwardPE', 'trailingPegRatio', 'priceToSalesTrailing12Months',\n",
    "                     'priceToBook', 'enterpriseToRevenue', 'enterpriseToEbitda']\n",
    "valuation_data = get_metrics(tickers, valuation_metrics)\n",
    "valuation_data = valuation_data.merge(data[['symbol', 'current', 'shares']], on='symbol')\n",
    "valuation_data"
   ]
  },
  {
   "cell_type": "code",
   "execution_count": 22,
   "metadata": {},
   "outputs": [
    {
     "name": "stdout",
     "output_type": "stream",
     "text": [
      "Portfolio P/E ratio: 15.071772980601517\n"
     ]
    }
   ],
   "source": [
    "portfolio_pe = (valuation_data['current'] * valuation_data['shares']).sum() / (valuation_data['trailingEps'] * valuation_data['shares']).sum()\n",
    "\n",
    "print(\"Portfolio P/E ratio:\", portfolio_pe)"
   ]
  },
  {
   "cell_type": "markdown",
   "metadata": {},
   "source": [
    "# Portfolio returns"
   ]
  },
  {
   "cell_type": "code",
   "execution_count": 23,
   "metadata": {},
   "outputs": [
    {
     "data": {
      "text/html": [
       "<div>\n",
       "<style scoped>\n",
       "    .dataframe tbody tr th:only-of-type {\n",
       "        vertical-align: middle;\n",
       "    }\n",
       "\n",
       "    .dataframe tbody tr th {\n",
       "        vertical-align: top;\n",
       "    }\n",
       "\n",
       "    .dataframe thead th {\n",
       "        text-align: right;\n",
       "    }\n",
       "</style>\n",
       "<table border=\"1\" class=\"dataframe\">\n",
       "  <thead>\n",
       "    <tr style=\"text-align: right;\">\n",
       "      <th></th>\n",
       "      <th>symbol</th>\n",
       "      <th>profitMargins</th>\n",
       "      <th>operatingMargins</th>\n",
       "      <th>returnOnAssets</th>\n",
       "      <th>returnOnEquity</th>\n",
       "    </tr>\n",
       "  </thead>\n",
       "  <tbody>\n",
       "    <tr>\n",
       "      <th>0</th>\n",
       "      <td>REGN</td>\n",
       "      <td>0.336</td>\n",
       "      <td>0.334</td>\n",
       "      <td>0.074</td>\n",
       "      <td>0.172</td>\n",
       "    </tr>\n",
       "    <tr>\n",
       "      <th>1</th>\n",
       "      <td>CART</td>\n",
       "      <td>0.135</td>\n",
       "      <td>0.163</td>\n",
       "      <td>0.056</td>\n",
       "      <td>0.132</td>\n",
       "    </tr>\n",
       "    <tr>\n",
       "      <th>2</th>\n",
       "      <td>NVDA</td>\n",
       "      <td>0.550</td>\n",
       "      <td>0.621</td>\n",
       "      <td>0.553</td>\n",
       "      <td>1.238</td>\n",
       "    </tr>\n",
       "    <tr>\n",
       "      <th>3</th>\n",
       "      <td>PLD</td>\n",
       "      <td>0.374</td>\n",
       "      <td>0.410</td>\n",
       "      <td>0.021</td>\n",
       "      <td>0.057</td>\n",
       "    </tr>\n",
       "    <tr>\n",
       "      <th>4</th>\n",
       "      <td>BOOT</td>\n",
       "      <td>0.087</td>\n",
       "      <td>0.094</td>\n",
       "      <td>0.075</td>\n",
       "      <td>0.164</td>\n",
       "    </tr>\n",
       "    <tr>\n",
       "      <th>5</th>\n",
       "      <td>FSLR</td>\n",
       "      <td>0.324</td>\n",
       "      <td>0.363</td>\n",
       "      <td>0.079</td>\n",
       "      <td>0.180</td>\n",
       "    </tr>\n",
       "    <tr>\n",
       "      <th>6</th>\n",
       "      <td>AMAT</td>\n",
       "      <td>0.277</td>\n",
       "      <td>0.287</td>\n",
       "      <td>0.152</td>\n",
       "      <td>0.439</td>\n",
       "    </tr>\n",
       "    <tr>\n",
       "      <th>7</th>\n",
       "      <td>ASML</td>\n",
       "      <td>0.264</td>\n",
       "      <td>0.327</td>\n",
       "      <td>0.127</td>\n",
       "      <td>0.492</td>\n",
       "    </tr>\n",
       "    <tr>\n",
       "      <th>8</th>\n",
       "      <td>ABBV</td>\n",
       "      <td>0.092</td>\n",
       "      <td>0.289</td>\n",
       "      <td>0.077</td>\n",
       "      <td>0.564</td>\n",
       "    </tr>\n",
       "    <tr>\n",
       "      <th>9</th>\n",
       "      <td>MELI</td>\n",
       "      <td>0.078</td>\n",
       "      <td>0.105</td>\n",
       "      <td>0.068</td>\n",
       "      <td>0.426</td>\n",
       "    </tr>\n",
       "    <tr>\n",
       "      <th>10</th>\n",
       "      <td>HIMS</td>\n",
       "      <td>0.082</td>\n",
       "      <td>0.056</td>\n",
       "      <td>0.057</td>\n",
       "      <td>0.263</td>\n",
       "    </tr>\n",
       "    <tr>\n",
       "      <th>11</th>\n",
       "      <td>PYPL</td>\n",
       "      <td>0.141</td>\n",
       "      <td>0.182</td>\n",
       "      <td>0.043</td>\n",
       "      <td>0.222</td>\n",
       "    </tr>\n",
       "    <tr>\n",
       "      <th>12</th>\n",
       "      <td>NUE</td>\n",
       "      <td>0.081</td>\n",
       "      <td>0.069</td>\n",
       "      <td>0.066</td>\n",
       "      <td>0.132</td>\n",
       "    </tr>\n",
       "    <tr>\n",
       "      <th>13</th>\n",
       "      <td>EME</td>\n",
       "      <td>0.065</td>\n",
       "      <td>0.098</td>\n",
       "      <td>0.115</td>\n",
       "      <td>0.368</td>\n",
       "    </tr>\n",
       "  </tbody>\n",
       "</table>\n",
       "</div>"
      ],
      "text/plain": [
       "   symbol  profitMargins  operatingMargins  returnOnAssets  returnOnEquity\n",
       "0    REGN          0.336             0.334           0.074           0.172\n",
       "1    CART          0.135             0.163           0.056           0.132\n",
       "2    NVDA          0.550             0.621           0.553           1.238\n",
       "3     PLD          0.374             0.410           0.021           0.057\n",
       "4    BOOT          0.087             0.094           0.075           0.164\n",
       "5    FSLR          0.324             0.363           0.079           0.180\n",
       "6    AMAT          0.277             0.287           0.152           0.439\n",
       "7    ASML          0.264             0.327           0.127           0.492\n",
       "8    ABBV          0.092             0.289           0.077           0.564\n",
       "9    MELI          0.078             0.105           0.068           0.426\n",
       "10   HIMS          0.082             0.056           0.057           0.263\n",
       "11   PYPL          0.141             0.182           0.043           0.222\n",
       "12    NUE          0.081             0.069           0.066           0.132\n",
       "13    EME          0.065             0.098           0.115           0.368"
      ]
     },
     "execution_count": 23,
     "metadata": {},
     "output_type": "execute_result"
    }
   ],
   "source": [
    "return_metrics = ['profitMargins', 'operatingMargins', 'returnOnAssets', 'returnOnEquity']\n",
    "return_data = get_metrics(tickers, return_metrics)\n",
    "return_data"
   ]
  },
  {
   "cell_type": "markdown",
   "metadata": {},
   "source": [
    "# Balance sheets"
   ]
  },
  {
   "cell_type": "code",
   "execution_count": 10,
   "metadata": {},
   "outputs": [
    {
     "data": {
      "text/html": [
       "<div>\n",
       "<style scoped>\n",
       "    .dataframe tbody tr th:only-of-type {\n",
       "        vertical-align: middle;\n",
       "    }\n",
       "\n",
       "    .dataframe tbody tr th {\n",
       "        vertical-align: top;\n",
       "    }\n",
       "\n",
       "    .dataframe thead th {\n",
       "        text-align: right;\n",
       "    }\n",
       "</style>\n",
       "<table border=\"1\" class=\"dataframe\">\n",
       "  <thead>\n",
       "    <tr style=\"text-align: right;\">\n",
       "      <th></th>\n",
       "      <th>symbol</th>\n",
       "      <th>totalCash</th>\n",
       "      <th>totalCashPerShare</th>\n",
       "      <th>totalDebt</th>\n",
       "      <th>debtToEquity</th>\n",
       "      <th>currentRatio</th>\n",
       "      <th>bookValue</th>\n",
       "    </tr>\n",
       "  </thead>\n",
       "  <tbody>\n",
       "    <tr>\n",
       "      <th>0</th>\n",
       "      <td>REGN</td>\n",
       "      <td>9796500480</td>\n",
       "      <td>91</td>\n",
       "      <td>2704000000</td>\n",
       "      <td>9</td>\n",
       "      <td>5</td>\n",
       "      <td>272</td>\n",
       "    </tr>\n",
       "    <tr>\n",
       "      <th>1</th>\n",
       "      <td>CART</td>\n",
       "      <td>1308000000</td>\n",
       "      <td>5</td>\n",
       "      <td>28000000</td>\n",
       "      <td>1</td>\n",
       "      <td>3</td>\n",
       "      <td>11</td>\n",
       "    </tr>\n",
       "    <tr>\n",
       "      <th>2</th>\n",
       "      <td>NVDA</td>\n",
       "      <td>34800001024</td>\n",
       "      <td>1</td>\n",
       "      <td>10014999552</td>\n",
       "      <td>17</td>\n",
       "      <td>4</td>\n",
       "      <td>2</td>\n",
       "    </tr>\n",
       "    <tr>\n",
       "      <th>3</th>\n",
       "      <td>PLD</td>\n",
       "      <td>780870976</td>\n",
       "      <td>1</td>\n",
       "      <td>32914288640</td>\n",
       "      <td>57</td>\n",
       "      <td>1</td>\n",
       "      <td>57</td>\n",
       "    </tr>\n",
       "    <tr>\n",
       "      <th>4</th>\n",
       "      <td>BOOT</td>\n",
       "      <td>37377000</td>\n",
       "      <td>1</td>\n",
       "      <td>516608000</td>\n",
       "      <td>51</td>\n",
       "      <td>2</td>\n",
       "      <td>33</td>\n",
       "    </tr>\n",
       "    <tr>\n",
       "      <th>5</th>\n",
       "      <td>FSLR</td>\n",
       "      <td>1269821056</td>\n",
       "      <td>12</td>\n",
       "      <td>694142976</td>\n",
       "      <td>9</td>\n",
       "      <td>2</td>\n",
       "      <td>71</td>\n",
       "    </tr>\n",
       "    <tr>\n",
       "      <th>6</th>\n",
       "      <td>AMAT</td>\n",
       "      <td>9102999552</td>\n",
       "      <td>11</td>\n",
       "      <td>6671000064</td>\n",
       "      <td>35</td>\n",
       "      <td>3</td>\n",
       "      <td>23</td>\n",
       "    </tr>\n",
       "    <tr>\n",
       "      <th>7</th>\n",
       "      <td>ASML</td>\n",
       "      <td>4984500224</td>\n",
       "      <td>13</td>\n",
       "      <td>4692199936</td>\n",
       "      <td>29</td>\n",
       "      <td>2</td>\n",
       "      <td>41</td>\n",
       "    </tr>\n",
       "    <tr>\n",
       "      <th>8</th>\n",
       "      <td>ABBV</td>\n",
       "      <td>7285000192</td>\n",
       "      <td>4</td>\n",
       "      <td>71323000832</td>\n",
       "      <td>1,175</td>\n",
       "      <td>1</td>\n",
       "      <td>3</td>\n",
       "    </tr>\n",
       "    <tr>\n",
       "      <th>9</th>\n",
       "      <td>MELI</td>\n",
       "      <td>6672999936</td>\n",
       "      <td>132</td>\n",
       "      <td>6339999744</td>\n",
       "      <td>158</td>\n",
       "      <td>1</td>\n",
       "      <td>79</td>\n",
       "    </tr>\n",
       "    <tr>\n",
       "      <th>10</th>\n",
       "      <td>HIMS</td>\n",
       "      <td>254071008</td>\n",
       "      <td>1</td>\n",
       "      <td>11358000</td>\n",
       "      <td>3</td>\n",
       "      <td>2</td>\n",
       "      <td>2</td>\n",
       "    </tr>\n",
       "    <tr>\n",
       "      <th>11</th>\n",
       "      <td>PYPL</td>\n",
       "      <td>11918999552</td>\n",
       "      <td>12</td>\n",
       "      <td>13258000384</td>\n",
       "      <td>66</td>\n",
       "      <td>1</td>\n",
       "      <td>20</td>\n",
       "    </tr>\n",
       "    <tr>\n",
       "      <th>12</th>\n",
       "      <td>NUE</td>\n",
       "      <td>4858448896</td>\n",
       "      <td>21</td>\n",
       "      <td>7092267008</td>\n",
       "      <td>33</td>\n",
       "      <td>3</td>\n",
       "      <td>87</td>\n",
       "    </tr>\n",
       "    <tr>\n",
       "      <th>13</th>\n",
       "      <td>EME</td>\n",
       "      <td>1035534016</td>\n",
       "      <td>23</td>\n",
       "      <td>356062016</td>\n",
       "      <td>13</td>\n",
       "      <td>1</td>\n",
       "      <td>60</td>\n",
       "    </tr>\n",
       "  </tbody>\n",
       "</table>\n",
       "</div>"
      ],
      "text/plain": [
       "   symbol    totalCash  totalCashPerShare    totalDebt  debtToEquity  \\\n",
       "0    REGN   9796500480                 91   2704000000             9   \n",
       "1    CART   1308000000                  5     28000000             1   \n",
       "2    NVDA  34800001024                  1  10014999552            17   \n",
       "3     PLD    780870976                  1  32914288640            57   \n",
       "4    BOOT     37377000                  1    516608000            51   \n",
       "5    FSLR   1269821056                 12    694142976             9   \n",
       "6    AMAT   9102999552                 11   6671000064            35   \n",
       "7    ASML   4984500224                 13   4692199936            29   \n",
       "8    ABBV   7285000192                  4  71323000832         1,175   \n",
       "9    MELI   6672999936                132   6339999744           158   \n",
       "10   HIMS    254071008                  1     11358000             3   \n",
       "11   PYPL  11918999552                 12  13258000384            66   \n",
       "12    NUE   4858448896                 21   7092267008            33   \n",
       "13    EME   1035534016                 23    356062016            13   \n",
       "\n",
       "    currentRatio  bookValue  \n",
       "0              5        272  \n",
       "1              3         11  \n",
       "2              4          2  \n",
       "3              1         57  \n",
       "4              2         33  \n",
       "5              2         71  \n",
       "6              3         23  \n",
       "7              2         41  \n",
       "8              1          3  \n",
       "9              1         79  \n",
       "10             2          2  \n",
       "11             1         20  \n",
       "12             3         87  \n",
       "13             1         60  "
      ]
     },
     "execution_count": 10,
     "metadata": {},
     "output_type": "execute_result"
    }
   ],
   "source": [
    "balance_data"
   ]
  },
  {
   "cell_type": "code",
   "execution_count": null,
   "metadata": {},
   "outputs": [
    {
     "data": {
      "text/html": [
       "<div>\n",
       "<style scoped>\n",
       "    .dataframe tbody tr th:only-of-type {\n",
       "        vertical-align: middle;\n",
       "    }\n",
       "\n",
       "    .dataframe tbody tr th {\n",
       "        vertical-align: top;\n",
       "    }\n",
       "\n",
       "    .dataframe thead th {\n",
       "        text-align: right;\n",
       "    }\n",
       "</style>\n",
       "<table border=\"1\" class=\"dataframe\">\n",
       "  <thead>\n",
       "    <tr style=\"text-align: right;\">\n",
       "      <th></th>\n",
       "      <th>symbol</th>\n",
       "      <th>totalCash</th>\n",
       "      <th>totalCashPerShare</th>\n",
       "      <th>totalDebt</th>\n",
       "      <th>debtToEquity</th>\n",
       "      <th>currentRatio</th>\n",
       "      <th>bookValue</th>\n",
       "      <th>Assets</th>\n",
       "    </tr>\n",
       "  </thead>\n",
       "  <tbody>\n",
       "    <tr>\n",
       "      <th>0</th>\n",
       "      <td>REGN</td>\n",
       "      <td>9796500480</td>\n",
       "      <td>91.054</td>\n",
       "      <td>2704000000</td>\n",
       "      <td>9.221</td>\n",
       "      <td>5.281</td>\n",
       "      <td>272.040</td>\n",
       "      <td>33080200000</td>\n",
       "    </tr>\n",
       "    <tr>\n",
       "      <th>1</th>\n",
       "      <td>CART</td>\n",
       "      <td>1308000000</td>\n",
       "      <td>5.037</td>\n",
       "      <td>28000000</td>\n",
       "      <td>0.916</td>\n",
       "      <td>3.060</td>\n",
       "      <td>11.061</td>\n",
       "      <td>4727000000</td>\n",
       "    </tr>\n",
       "    <tr>\n",
       "      <th>2</th>\n",
       "      <td>NVDA</td>\n",
       "      <td>34800001024</td>\n",
       "      <td>1.419</td>\n",
       "      <td>10014999552</td>\n",
       "      <td>17.221</td>\n",
       "      <td>4.269</td>\n",
       "      <td>1.744</td>\n",
       "      <td>65728000000</td>\n",
       "    </tr>\n",
       "    <tr>\n",
       "      <th>3</th>\n",
       "      <td>PLD</td>\n",
       "      <td>780870976</td>\n",
       "      <td>0.843</td>\n",
       "      <td>32914288640</td>\n",
       "      <td>57.079</td>\n",
       "      <td>0.623</td>\n",
       "      <td>57.235</td>\n",
       "      <td>93020840000</td>\n",
       "    </tr>\n",
       "    <tr>\n",
       "      <th>4</th>\n",
       "      <td>BOOT</td>\n",
       "      <td>37377000</td>\n",
       "      <td>1.224</td>\n",
       "      <td>516608000</td>\n",
       "      <td>50.814</td>\n",
       "      <td>2.252</td>\n",
       "      <td>33.305</td>\n",
       "      <td>1705592000</td>\n",
       "    </tr>\n",
       "    <tr>\n",
       "      <th>5</th>\n",
       "      <td>FSLR</td>\n",
       "      <td>1269821056</td>\n",
       "      <td>11.861</td>\n",
       "      <td>694142976</td>\n",
       "      <td>9.141</td>\n",
       "      <td>2.142</td>\n",
       "      <td>70.930</td>\n",
       "      <td>10365132000</td>\n",
       "    </tr>\n",
       "    <tr>\n",
       "      <th>6</th>\n",
       "      <td>AMAT</td>\n",
       "      <td>9102999552</td>\n",
       "      <td>11.042</td>\n",
       "      <td>6671000064</td>\n",
       "      <td>35.409</td>\n",
       "      <td>2.860</td>\n",
       "      <td>22.853</td>\n",
       "      <td>34409000000</td>\n",
       "    </tr>\n",
       "    <tr>\n",
       "      <th>7</th>\n",
       "      <td>ASML</td>\n",
       "      <td>4984500224</td>\n",
       "      <td>12.677</td>\n",
       "      <td>4692199936</td>\n",
       "      <td>29.051</td>\n",
       "      <td>1.551</td>\n",
       "      <td>41.077</td>\n",
       "      <td>39957500000</td>\n",
       "    </tr>\n",
       "    <tr>\n",
       "      <th>8</th>\n",
       "      <td>ABBV</td>\n",
       "      <td>7285000192</td>\n",
       "      <td>4.122</td>\n",
       "      <td>71323000832</td>\n",
       "      <td>1,174.815</td>\n",
       "      <td>0.645</td>\n",
       "      <td>3.413</td>\n",
       "      <td>134711000000</td>\n",
       "    </tr>\n",
       "    <tr>\n",
       "      <th>9</th>\n",
       "      <td>MELI</td>\n",
       "      <td>6672999936</td>\n",
       "      <td>131.624</td>\n",
       "      <td>6339999744</td>\n",
       "      <td>158.421</td>\n",
       "      <td>1.245</td>\n",
       "      <td>78.939</td>\n",
       "      <td>17646000000</td>\n",
       "    </tr>\n",
       "    <tr>\n",
       "      <th>10</th>\n",
       "      <td>HIMS</td>\n",
       "      <td>254071008</td>\n",
       "      <td>1.163</td>\n",
       "      <td>11358000</td>\n",
       "      <td>2.581</td>\n",
       "      <td>2.138</td>\n",
       "      <td>2.020</td>\n",
       "      <td>441186000</td>\n",
       "    </tr>\n",
       "    <tr>\n",
       "      <th>11</th>\n",
       "      <td>PYPL</td>\n",
       "      <td>11918999552</td>\n",
       "      <td>11.889</td>\n",
       "      <td>13258000384</td>\n",
       "      <td>65.718</td>\n",
       "      <td>1.247</td>\n",
       "      <td>20.054</td>\n",
       "      <td>82166000000</td>\n",
       "    </tr>\n",
       "    <tr>\n",
       "      <th>12</th>\n",
       "      <td>NUE</td>\n",
       "      <td>4858448896</td>\n",
       "      <td>20.691</td>\n",
       "      <td>7092267008</td>\n",
       "      <td>32.901</td>\n",
       "      <td>2.592</td>\n",
       "      <td>87.188</td>\n",
       "      <td>35340499000</td>\n",
       "    </tr>\n",
       "    <tr>\n",
       "      <th>13</th>\n",
       "      <td>EME</td>\n",
       "      <td>1035534016</td>\n",
       "      <td>22.511</td>\n",
       "      <td>356062016</td>\n",
       "      <td>12.905</td>\n",
       "      <td>1.275</td>\n",
       "      <td>59.962</td>\n",
       "      <td>6609721000</td>\n",
       "    </tr>\n",
       "  </tbody>\n",
       "</table>\n",
       "</div>"
      ],
      "text/plain": [
       "   symbol    totalCash  totalCashPerShare    totalDebt  debtToEquity  \\\n",
       "0    REGN   9796500480             91.054   2704000000         9.221   \n",
       "1    CART   1308000000              5.037     28000000         0.916   \n",
       "2    NVDA  34800001024              1.419  10014999552        17.221   \n",
       "3     PLD    780870976              0.843  32914288640        57.079   \n",
       "4    BOOT     37377000              1.224    516608000        50.814   \n",
       "5    FSLR   1269821056             11.861    694142976         9.141   \n",
       "6    AMAT   9102999552             11.042   6671000064        35.409   \n",
       "7    ASML   4984500224             12.677   4692199936        29.051   \n",
       "8    ABBV   7285000192              4.122  71323000832     1,174.815   \n",
       "9    MELI   6672999936            131.624   6339999744       158.421   \n",
       "10   HIMS    254071008              1.163     11358000         2.581   \n",
       "11   PYPL  11918999552             11.889  13258000384        65.718   \n",
       "12    NUE   4858448896             20.691   7092267008        32.901   \n",
       "13    EME   1035534016             22.511    356062016        12.905   \n",
       "\n",
       "    currentRatio  bookValue        Assets  \n",
       "0          5.281    272.040   33080200000  \n",
       "1          3.060     11.061    4727000000  \n",
       "2          4.269      1.744   65728000000  \n",
       "3          0.623     57.235   93020840000  \n",
       "4          2.252     33.305    1705592000  \n",
       "5          2.142     70.930   10365132000  \n",
       "6          2.860     22.853   34409000000  \n",
       "7          1.551     41.077   39957500000  \n",
       "8          0.645      3.413  134711000000  \n",
       "9          1.245     78.939   17646000000  \n",
       "10         2.138      2.020     441186000  \n",
       "11         1.247     20.054   82166000000  \n",
       "12         2.592     87.188   35340499000  \n",
       "13         1.275     59.962    6609721000  "
      ]
     },
     "execution_count": 4,
     "metadata": {},
     "output_type": "execute_result"
    }
   ],
   "source": [
    "balance_metrics = ['totalCash', 'totalCashPerShare', 'totalDebt', 'debtToEquity', \n",
    "                  'currentRatio', 'bookValue', ]\n",
    "balance_data = get_metrics(tickers, balance_metrics)\n",
    "assets = []\n",
    "\n",
    "for _, row in balance_data.iterrows():\n",
    "    if row[\"symbol\"] == \"ASML\":\n",
    "        assets.append(get_recent_fact_from_symbol(row[\"symbol\"], \"Assets\", annual_form=\"20-F\"))\n",
    "        continue\n",
    "    assets.append(get_recent_fact_from_symbol(row[\"symbol\"], \"Assets\"))\n",
    "\n",
    "balance_data[\"Assets\"] = assets\n",
    "balance_data"
   ]
  },
  {
   "cell_type": "code",
   "execution_count": 8,
   "metadata": {},
   "outputs": [
    {
     "data": {
      "application/vnd.plotly.v1+json": {
       "config": {
        "plotlyServerURL": "https://plot.ly"
       },
       "data": [
        {
         "alignmentgroup": "True",
         "hovertemplate": "Compnay Symbol=%{x}<br>Value=%{y}<extra></extra>",
         "legendgroup": "REGN",
         "marker": {
          "color": "#636efa",
          "pattern": {
           "shape": ""
          }
         },
         "name": "REGN",
         "offsetgroup": "REGN",
         "orientation": "v",
         "showlegend": true,
         "textposition": "auto",
         "type": "bar",
         "x": [
          "REGN"
         ],
         "xaxis": "x",
         "y": [
          272.04
         ],
         "yaxis": "y"
        },
        {
         "alignmentgroup": "True",
         "hovertemplate": "Compnay Symbol=%{x}<br>Value=%{y}<extra></extra>",
         "legendgroup": "CART",
         "marker": {
          "color": "#EF553B",
          "pattern": {
           "shape": ""
          }
         },
         "name": "CART",
         "offsetgroup": "CART",
         "orientation": "v",
         "showlegend": true,
         "textposition": "auto",
         "type": "bar",
         "x": [
          "CART"
         ],
         "xaxis": "x",
         "y": [
          11.061
         ],
         "yaxis": "y"
        },
        {
         "alignmentgroup": "True",
         "hovertemplate": "Compnay Symbol=%{x}<br>Value=%{y}<extra></extra>",
         "legendgroup": "NVDA",
         "marker": {
          "color": "#00cc96",
          "pattern": {
           "shape": ""
          }
         },
         "name": "NVDA",
         "offsetgroup": "NVDA",
         "orientation": "v",
         "showlegend": true,
         "textposition": "auto",
         "type": "bar",
         "x": [
          "NVDA"
         ],
         "xaxis": "x",
         "y": [
          1.744
         ],
         "yaxis": "y"
        },
        {
         "alignmentgroup": "True",
         "hovertemplate": "Compnay Symbol=%{x}<br>Value=%{y}<extra></extra>",
         "legendgroup": "PLD",
         "marker": {
          "color": "#ab63fa",
          "pattern": {
           "shape": ""
          }
         },
         "name": "PLD",
         "offsetgroup": "PLD",
         "orientation": "v",
         "showlegend": true,
         "textposition": "auto",
         "type": "bar",
         "x": [
          "PLD"
         ],
         "xaxis": "x",
         "y": [
          57.235
         ],
         "yaxis": "y"
        },
        {
         "alignmentgroup": "True",
         "hovertemplate": "Compnay Symbol=%{x}<br>Value=%{y}<extra></extra>",
         "legendgroup": "BOOT",
         "marker": {
          "color": "#FFA15A",
          "pattern": {
           "shape": ""
          }
         },
         "name": "BOOT",
         "offsetgroup": "BOOT",
         "orientation": "v",
         "showlegend": true,
         "textposition": "auto",
         "type": "bar",
         "x": [
          "BOOT"
         ],
         "xaxis": "x",
         "y": [
          33.305
         ],
         "yaxis": "y"
        },
        {
         "alignmentgroup": "True",
         "hovertemplate": "Compnay Symbol=%{x}<br>Value=%{y}<extra></extra>",
         "legendgroup": "FSLR",
         "marker": {
          "color": "#19d3f3",
          "pattern": {
           "shape": ""
          }
         },
         "name": "FSLR",
         "offsetgroup": "FSLR",
         "orientation": "v",
         "showlegend": true,
         "textposition": "auto",
         "type": "bar",
         "x": [
          "FSLR"
         ],
         "xaxis": "x",
         "y": [
          70.93
         ],
         "yaxis": "y"
        },
        {
         "alignmentgroup": "True",
         "hovertemplate": "Compnay Symbol=%{x}<br>Value=%{y}<extra></extra>",
         "legendgroup": "AMAT",
         "marker": {
          "color": "#FF6692",
          "pattern": {
           "shape": ""
          }
         },
         "name": "AMAT",
         "offsetgroup": "AMAT",
         "orientation": "v",
         "showlegend": true,
         "textposition": "auto",
         "type": "bar",
         "x": [
          "AMAT"
         ],
         "xaxis": "x",
         "y": [
          22.853
         ],
         "yaxis": "y"
        },
        {
         "alignmentgroup": "True",
         "hovertemplate": "Compnay Symbol=%{x}<br>Value=%{y}<extra></extra>",
         "legendgroup": "ASML",
         "marker": {
          "color": "#B6E880",
          "pattern": {
           "shape": ""
          }
         },
         "name": "ASML",
         "offsetgroup": "ASML",
         "orientation": "v",
         "showlegend": true,
         "textposition": "auto",
         "type": "bar",
         "x": [
          "ASML"
         ],
         "xaxis": "x",
         "y": [
          41.077
         ],
         "yaxis": "y"
        },
        {
         "alignmentgroup": "True",
         "hovertemplate": "Compnay Symbol=%{x}<br>Value=%{y}<extra></extra>",
         "legendgroup": "ABBV",
         "marker": {
          "color": "#FF97FF",
          "pattern": {
           "shape": ""
          }
         },
         "name": "ABBV",
         "offsetgroup": "ABBV",
         "orientation": "v",
         "showlegend": true,
         "textposition": "auto",
         "type": "bar",
         "x": [
          "ABBV"
         ],
         "xaxis": "x",
         "y": [
          3.413
         ],
         "yaxis": "y"
        },
        {
         "alignmentgroup": "True",
         "hovertemplate": "Compnay Symbol=%{x}<br>Value=%{y}<extra></extra>",
         "legendgroup": "MELI",
         "marker": {
          "color": "#FECB52",
          "pattern": {
           "shape": ""
          }
         },
         "name": "MELI",
         "offsetgroup": "MELI",
         "orientation": "v",
         "showlegend": true,
         "textposition": "auto",
         "type": "bar",
         "x": [
          "MELI"
         ],
         "xaxis": "x",
         "y": [
          78.939
         ],
         "yaxis": "y"
        },
        {
         "alignmentgroup": "True",
         "hovertemplate": "Compnay Symbol=%{x}<br>Value=%{y}<extra></extra>",
         "legendgroup": "HIMS",
         "marker": {
          "color": "#636efa",
          "pattern": {
           "shape": ""
          }
         },
         "name": "HIMS",
         "offsetgroup": "HIMS",
         "orientation": "v",
         "showlegend": true,
         "textposition": "auto",
         "type": "bar",
         "x": [
          "HIMS"
         ],
         "xaxis": "x",
         "y": [
          2.02
         ],
         "yaxis": "y"
        },
        {
         "alignmentgroup": "True",
         "hovertemplate": "Compnay Symbol=%{x}<br>Value=%{y}<extra></extra>",
         "legendgroup": "PYPL",
         "marker": {
          "color": "#EF553B",
          "pattern": {
           "shape": ""
          }
         },
         "name": "PYPL",
         "offsetgroup": "PYPL",
         "orientation": "v",
         "showlegend": true,
         "textposition": "auto",
         "type": "bar",
         "x": [
          "PYPL"
         ],
         "xaxis": "x",
         "y": [
          20.054
         ],
         "yaxis": "y"
        },
        {
         "alignmentgroup": "True",
         "hovertemplate": "Compnay Symbol=%{x}<br>Value=%{y}<extra></extra>",
         "legendgroup": "NUE",
         "marker": {
          "color": "#00cc96",
          "pattern": {
           "shape": ""
          }
         },
         "name": "NUE",
         "offsetgroup": "NUE",
         "orientation": "v",
         "showlegend": true,
         "textposition": "auto",
         "type": "bar",
         "x": [
          "NUE"
         ],
         "xaxis": "x",
         "y": [
          87.188
         ],
         "yaxis": "y"
        },
        {
         "alignmentgroup": "True",
         "hovertemplate": "Compnay Symbol=%{x}<br>Value=%{y}<extra></extra>",
         "legendgroup": "EME",
         "marker": {
          "color": "#ab63fa",
          "pattern": {
           "shape": ""
          }
         },
         "name": "EME",
         "offsetgroup": "EME",
         "orientation": "v",
         "showlegend": true,
         "textposition": "auto",
         "type": "bar",
         "x": [
          "EME"
         ],
         "xaxis": "x",
         "y": [
          59.962
         ],
         "yaxis": "y"
        }
       ],
       "layout": {
        "barmode": "relative",
        "legend": {
         "title": {
          "text": "Symbols"
         },
         "tracegroupgap": 0
        },
        "template": {
         "data": {
          "bar": [
           {
            "error_x": {
             "color": "#f2f5fa"
            },
            "error_y": {
             "color": "#f2f5fa"
            },
            "marker": {
             "line": {
              "color": "rgb(17,17,17)",
              "width": 0.5
             },
             "pattern": {
              "fillmode": "overlay",
              "size": 10,
              "solidity": 0.2
             }
            },
            "type": "bar"
           }
          ],
          "barpolar": [
           {
            "marker": {
             "line": {
              "color": "rgb(17,17,17)",
              "width": 0.5
             },
             "pattern": {
              "fillmode": "overlay",
              "size": 10,
              "solidity": 0.2
             }
            },
            "type": "barpolar"
           }
          ],
          "carpet": [
           {
            "aaxis": {
             "endlinecolor": "#A2B1C6",
             "gridcolor": "#506784",
             "linecolor": "#506784",
             "minorgridcolor": "#506784",
             "startlinecolor": "#A2B1C6"
            },
            "baxis": {
             "endlinecolor": "#A2B1C6",
             "gridcolor": "#506784",
             "linecolor": "#506784",
             "minorgridcolor": "#506784",
             "startlinecolor": "#A2B1C6"
            },
            "type": "carpet"
           }
          ],
          "choropleth": [
           {
            "colorbar": {
             "outlinewidth": 0,
             "ticks": ""
            },
            "type": "choropleth"
           }
          ],
          "contour": [
           {
            "colorbar": {
             "outlinewidth": 0,
             "ticks": ""
            },
            "colorscale": [
             [
              0,
              "#0d0887"
             ],
             [
              0.1111111111111111,
              "#46039f"
             ],
             [
              0.2222222222222222,
              "#7201a8"
             ],
             [
              0.3333333333333333,
              "#9c179e"
             ],
             [
              0.4444444444444444,
              "#bd3786"
             ],
             [
              0.5555555555555556,
              "#d8576b"
             ],
             [
              0.6666666666666666,
              "#ed7953"
             ],
             [
              0.7777777777777778,
              "#fb9f3a"
             ],
             [
              0.8888888888888888,
              "#fdca26"
             ],
             [
              1,
              "#f0f921"
             ]
            ],
            "type": "contour"
           }
          ],
          "contourcarpet": [
           {
            "colorbar": {
             "outlinewidth": 0,
             "ticks": ""
            },
            "type": "contourcarpet"
           }
          ],
          "heatmap": [
           {
            "colorbar": {
             "outlinewidth": 0,
             "ticks": ""
            },
            "colorscale": [
             [
              0,
              "#0d0887"
             ],
             [
              0.1111111111111111,
              "#46039f"
             ],
             [
              0.2222222222222222,
              "#7201a8"
             ],
             [
              0.3333333333333333,
              "#9c179e"
             ],
             [
              0.4444444444444444,
              "#bd3786"
             ],
             [
              0.5555555555555556,
              "#d8576b"
             ],
             [
              0.6666666666666666,
              "#ed7953"
             ],
             [
              0.7777777777777778,
              "#fb9f3a"
             ],
             [
              0.8888888888888888,
              "#fdca26"
             ],
             [
              1,
              "#f0f921"
             ]
            ],
            "type": "heatmap"
           }
          ],
          "heatmapgl": [
           {
            "colorbar": {
             "outlinewidth": 0,
             "ticks": ""
            },
            "colorscale": [
             [
              0,
              "#0d0887"
             ],
             [
              0.1111111111111111,
              "#46039f"
             ],
             [
              0.2222222222222222,
              "#7201a8"
             ],
             [
              0.3333333333333333,
              "#9c179e"
             ],
             [
              0.4444444444444444,
              "#bd3786"
             ],
             [
              0.5555555555555556,
              "#d8576b"
             ],
             [
              0.6666666666666666,
              "#ed7953"
             ],
             [
              0.7777777777777778,
              "#fb9f3a"
             ],
             [
              0.8888888888888888,
              "#fdca26"
             ],
             [
              1,
              "#f0f921"
             ]
            ],
            "type": "heatmapgl"
           }
          ],
          "histogram": [
           {
            "marker": {
             "pattern": {
              "fillmode": "overlay",
              "size": 10,
              "solidity": 0.2
             }
            },
            "type": "histogram"
           }
          ],
          "histogram2d": [
           {
            "colorbar": {
             "outlinewidth": 0,
             "ticks": ""
            },
            "colorscale": [
             [
              0,
              "#0d0887"
             ],
             [
              0.1111111111111111,
              "#46039f"
             ],
             [
              0.2222222222222222,
              "#7201a8"
             ],
             [
              0.3333333333333333,
              "#9c179e"
             ],
             [
              0.4444444444444444,
              "#bd3786"
             ],
             [
              0.5555555555555556,
              "#d8576b"
             ],
             [
              0.6666666666666666,
              "#ed7953"
             ],
             [
              0.7777777777777778,
              "#fb9f3a"
             ],
             [
              0.8888888888888888,
              "#fdca26"
             ],
             [
              1,
              "#f0f921"
             ]
            ],
            "type": "histogram2d"
           }
          ],
          "histogram2dcontour": [
           {
            "colorbar": {
             "outlinewidth": 0,
             "ticks": ""
            },
            "colorscale": [
             [
              0,
              "#0d0887"
             ],
             [
              0.1111111111111111,
              "#46039f"
             ],
             [
              0.2222222222222222,
              "#7201a8"
             ],
             [
              0.3333333333333333,
              "#9c179e"
             ],
             [
              0.4444444444444444,
              "#bd3786"
             ],
             [
              0.5555555555555556,
              "#d8576b"
             ],
             [
              0.6666666666666666,
              "#ed7953"
             ],
             [
              0.7777777777777778,
              "#fb9f3a"
             ],
             [
              0.8888888888888888,
              "#fdca26"
             ],
             [
              1,
              "#f0f921"
             ]
            ],
            "type": "histogram2dcontour"
           }
          ],
          "mesh3d": [
           {
            "colorbar": {
             "outlinewidth": 0,
             "ticks": ""
            },
            "type": "mesh3d"
           }
          ],
          "parcoords": [
           {
            "line": {
             "colorbar": {
              "outlinewidth": 0,
              "ticks": ""
             }
            },
            "type": "parcoords"
           }
          ],
          "pie": [
           {
            "automargin": true,
            "type": "pie"
           }
          ],
          "scatter": [
           {
            "marker": {
             "line": {
              "color": "#283442"
             }
            },
            "type": "scatter"
           }
          ],
          "scatter3d": [
           {
            "line": {
             "colorbar": {
              "outlinewidth": 0,
              "ticks": ""
             }
            },
            "marker": {
             "colorbar": {
              "outlinewidth": 0,
              "ticks": ""
             }
            },
            "type": "scatter3d"
           }
          ],
          "scattercarpet": [
           {
            "marker": {
             "colorbar": {
              "outlinewidth": 0,
              "ticks": ""
             }
            },
            "type": "scattercarpet"
           }
          ],
          "scattergeo": [
           {
            "marker": {
             "colorbar": {
              "outlinewidth": 0,
              "ticks": ""
             }
            },
            "type": "scattergeo"
           }
          ],
          "scattergl": [
           {
            "marker": {
             "line": {
              "color": "#283442"
             }
            },
            "type": "scattergl"
           }
          ],
          "scattermapbox": [
           {
            "marker": {
             "colorbar": {
              "outlinewidth": 0,
              "ticks": ""
             }
            },
            "type": "scattermapbox"
           }
          ],
          "scatterpolar": [
           {
            "marker": {
             "colorbar": {
              "outlinewidth": 0,
              "ticks": ""
             }
            },
            "type": "scatterpolar"
           }
          ],
          "scatterpolargl": [
           {
            "marker": {
             "colorbar": {
              "outlinewidth": 0,
              "ticks": ""
             }
            },
            "type": "scatterpolargl"
           }
          ],
          "scatterternary": [
           {
            "marker": {
             "colorbar": {
              "outlinewidth": 0,
              "ticks": ""
             }
            },
            "type": "scatterternary"
           }
          ],
          "surface": [
           {
            "colorbar": {
             "outlinewidth": 0,
             "ticks": ""
            },
            "colorscale": [
             [
              0,
              "#0d0887"
             ],
             [
              0.1111111111111111,
              "#46039f"
             ],
             [
              0.2222222222222222,
              "#7201a8"
             ],
             [
              0.3333333333333333,
              "#9c179e"
             ],
             [
              0.4444444444444444,
              "#bd3786"
             ],
             [
              0.5555555555555556,
              "#d8576b"
             ],
             [
              0.6666666666666666,
              "#ed7953"
             ],
             [
              0.7777777777777778,
              "#fb9f3a"
             ],
             [
              0.8888888888888888,
              "#fdca26"
             ],
             [
              1,
              "#f0f921"
             ]
            ],
            "type": "surface"
           }
          ],
          "table": [
           {
            "cells": {
             "fill": {
              "color": "#506784"
             },
             "line": {
              "color": "rgb(17,17,17)"
             }
            },
            "header": {
             "fill": {
              "color": "#2a3f5f"
             },
             "line": {
              "color": "rgb(17,17,17)"
             }
            },
            "type": "table"
           }
          ]
         },
         "layout": {
          "annotationdefaults": {
           "arrowcolor": "#f2f5fa",
           "arrowhead": 0,
           "arrowwidth": 1
          },
          "autotypenumbers": "strict",
          "coloraxis": {
           "colorbar": {
            "outlinewidth": 0,
            "ticks": ""
           }
          },
          "colorscale": {
           "diverging": [
            [
             0,
             "#8e0152"
            ],
            [
             0.1,
             "#c51b7d"
            ],
            [
             0.2,
             "#de77ae"
            ],
            [
             0.3,
             "#f1b6da"
            ],
            [
             0.4,
             "#fde0ef"
            ],
            [
             0.5,
             "#f7f7f7"
            ],
            [
             0.6,
             "#e6f5d0"
            ],
            [
             0.7,
             "#b8e186"
            ],
            [
             0.8,
             "#7fbc41"
            ],
            [
             0.9,
             "#4d9221"
            ],
            [
             1,
             "#276419"
            ]
           ],
           "sequential": [
            [
             0,
             "#0d0887"
            ],
            [
             0.1111111111111111,
             "#46039f"
            ],
            [
             0.2222222222222222,
             "#7201a8"
            ],
            [
             0.3333333333333333,
             "#9c179e"
            ],
            [
             0.4444444444444444,
             "#bd3786"
            ],
            [
             0.5555555555555556,
             "#d8576b"
            ],
            [
             0.6666666666666666,
             "#ed7953"
            ],
            [
             0.7777777777777778,
             "#fb9f3a"
            ],
            [
             0.8888888888888888,
             "#fdca26"
            ],
            [
             1,
             "#f0f921"
            ]
           ],
           "sequentialminus": [
            [
             0,
             "#0d0887"
            ],
            [
             0.1111111111111111,
             "#46039f"
            ],
            [
             0.2222222222222222,
             "#7201a8"
            ],
            [
             0.3333333333333333,
             "#9c179e"
            ],
            [
             0.4444444444444444,
             "#bd3786"
            ],
            [
             0.5555555555555556,
             "#d8576b"
            ],
            [
             0.6666666666666666,
             "#ed7953"
            ],
            [
             0.7777777777777778,
             "#fb9f3a"
            ],
            [
             0.8888888888888888,
             "#fdca26"
            ],
            [
             1,
             "#f0f921"
            ]
           ]
          },
          "colorway": [
           "#636efa",
           "#EF553B",
           "#00cc96",
           "#ab63fa",
           "#FFA15A",
           "#19d3f3",
           "#FF6692",
           "#B6E880",
           "#FF97FF",
           "#FECB52"
          ],
          "font": {
           "color": "#f2f5fa"
          },
          "geo": {
           "bgcolor": "rgb(17,17,17)",
           "lakecolor": "rgb(17,17,17)",
           "landcolor": "rgb(17,17,17)",
           "showlakes": true,
           "showland": true,
           "subunitcolor": "#506784"
          },
          "hoverlabel": {
           "align": "left"
          },
          "hovermode": "closest",
          "mapbox": {
           "style": "dark"
          },
          "paper_bgcolor": "rgb(17,17,17)",
          "plot_bgcolor": "rgb(17,17,17)",
          "polar": {
           "angularaxis": {
            "gridcolor": "#506784",
            "linecolor": "#506784",
            "ticks": ""
           },
           "bgcolor": "rgb(17,17,17)",
           "radialaxis": {
            "gridcolor": "#506784",
            "linecolor": "#506784",
            "ticks": ""
           }
          },
          "scene": {
           "xaxis": {
            "backgroundcolor": "rgb(17,17,17)",
            "gridcolor": "#506784",
            "gridwidth": 2,
            "linecolor": "#506784",
            "showbackground": true,
            "ticks": "",
            "zerolinecolor": "#C8D4E3"
           },
           "yaxis": {
            "backgroundcolor": "rgb(17,17,17)",
            "gridcolor": "#506784",
            "gridwidth": 2,
            "linecolor": "#506784",
            "showbackground": true,
            "ticks": "",
            "zerolinecolor": "#C8D4E3"
           },
           "zaxis": {
            "backgroundcolor": "rgb(17,17,17)",
            "gridcolor": "#506784",
            "gridwidth": 2,
            "linecolor": "#506784",
            "showbackground": true,
            "ticks": "",
            "zerolinecolor": "#C8D4E3"
           }
          },
          "shapedefaults": {
           "line": {
            "color": "#f2f5fa"
           }
          },
          "sliderdefaults": {
           "bgcolor": "#C8D4E3",
           "bordercolor": "rgb(17,17,17)",
           "borderwidth": 1,
           "tickwidth": 0
          },
          "ternary": {
           "aaxis": {
            "gridcolor": "#506784",
            "linecolor": "#506784",
            "ticks": ""
           },
           "baxis": {
            "gridcolor": "#506784",
            "linecolor": "#506784",
            "ticks": ""
           },
           "bgcolor": "rgb(17,17,17)",
           "caxis": {
            "gridcolor": "#506784",
            "linecolor": "#506784",
            "ticks": ""
           }
          },
          "title": {
           "x": 0.05
          },
          "updatemenudefaults": {
           "bgcolor": "#506784",
           "borderwidth": 0
          },
          "xaxis": {
           "automargin": true,
           "gridcolor": "#283442",
           "linecolor": "#506784",
           "ticks": "",
           "title": {
            "standoff": 15
           },
           "zerolinecolor": "#283442",
           "zerolinewidth": 2
          },
          "yaxis": {
           "automargin": true,
           "gridcolor": "#283442",
           "linecolor": "#506784",
           "ticks": "",
           "title": {
            "standoff": 15
           },
           "zerolinecolor": "#283442",
           "zerolinewidth": 2
          }
         }
        },
        "title": {
         "text": "Book Value"
        },
        "xaxis": {
         "anchor": "y",
         "categoryarray": [
          "REGN",
          "CART",
          "NVDA",
          "PLD",
          "BOOT",
          "FSLR",
          "AMAT",
          "ASML",
          "ABBV",
          "MELI",
          "HIMS",
          "PYPL",
          "NUE",
          "EME"
         ],
         "categoryorder": "array",
         "domain": [
          0,
          1
         ],
         "title": {
          "text": "Company Symbols"
         }
        },
        "yaxis": {
         "anchor": "x",
         "domain": [
          0,
          1
         ],
         "title": {
          "text": "Values"
         }
        }
       }
      }
     },
     "metadata": {},
     "output_type": "display_data"
    }
   ],
   "source": [
    "bar_chart('Book Value', balance_data, y='bookValue')"
   ]
  },
  {
   "cell_type": "markdown",
   "metadata": {},
   "source": [
    "# Income Statement"
   ]
  },
  {
   "cell_type": "code",
   "execution_count": 11,
   "metadata": {},
   "outputs": [
    {
     "data": {
      "text/html": [
       "<div>\n",
       "<style scoped>\n",
       "    .dataframe tbody tr th:only-of-type {\n",
       "        vertical-align: middle;\n",
       "    }\n",
       "\n",
       "    .dataframe tbody tr th {\n",
       "        vertical-align: top;\n",
       "    }\n",
       "\n",
       "    .dataframe thead th {\n",
       "        text-align: right;\n",
       "    }\n",
       "</style>\n",
       "<table border=\"1\" class=\"dataframe\">\n",
       "  <thead>\n",
       "    <tr style=\"text-align: right;\">\n",
       "      <th></th>\n",
       "      <th>symbol</th>\n",
       "      <th>EBITDA</th>\n",
       "      <th>Diluted EPS</th>\n",
       "      <th>Net Income</th>\n",
       "      <th>Operating Income</th>\n",
       "      <th>Gross Profit</th>\n",
       "      <th>Total Revenue</th>\n",
       "      <th>Operating Revenue</th>\n",
       "    </tr>\n",
       "  </thead>\n",
       "  <tbody>\n",
       "    <tr>\n",
       "      <th>0</th>\n",
       "      <td>REGN</td>\n",
       "      <td>4,693,300,000</td>\n",
       "      <td>35</td>\n",
       "      <td>3,953,600,000</td>\n",
       "      <td>4,233,200,000</td>\n",
       "      <td>11,301,400,000</td>\n",
       "      <td>13,117,200,000</td>\n",
       "      <td>12,581,100,000</td>\n",
       "    </tr>\n",
       "    <tr>\n",
       "      <th>1</th>\n",
       "      <td>CART</td>\n",
       "      <td>-2,085,000,000</td>\n",
       "      <td>-12</td>\n",
       "      <td>-1,622,000,000</td>\n",
       "      <td>-2,142,000,000</td>\n",
       "      <td>2,278,000,000</td>\n",
       "      <td>3,042,000,000</td>\n",
       "      <td>3,042,000,000</td>\n",
       "    </tr>\n",
       "    <tr>\n",
       "      <th>2</th>\n",
       "      <td>NVDA</td>\n",
       "      <td>35,583,000,000</td>\n",
       "      <td>1</td>\n",
       "      <td>29,760,000,000</td>\n",
       "      <td>32,972,000,000</td>\n",
       "      <td>44,301,000,000</td>\n",
       "      <td>60,922,000,000</td>\n",
       "      <td>60,922,000,000</td>\n",
       "    </tr>\n",
       "    <tr>\n",
       "      <th>3</th>\n",
       "      <td>PLD</td>\n",
       "      <td>6,567,797,000</td>\n",
       "      <td>3</td>\n",
       "      <td>3,059,214,000</td>\n",
       "      <td>3,084,483,000</td>\n",
       "      <td>6,013,134,000</td>\n",
       "      <td>8,023,469,000</td>\n",
       "      <td>8,023,469,000</td>\n",
       "    </tr>\n",
       "    <tr>\n",
       "      <th>4</th>\n",
       "      <td>BOOT</td>\n",
       "      <td>249,195,000</td>\n",
       "      <td>5</td>\n",
       "      <td>146,996,000</td>\n",
       "      <td>198,214,000</td>\n",
       "      <td>614,424,000</td>\n",
       "      <td>1,667,009,000</td>\n",
       "      <td>1,667,009,000</td>\n",
       "    </tr>\n",
       "    <tr>\n",
       "      <th>5</th>\n",
       "      <td>FSLR</td>\n",
       "      <td>1,212,249,000</td>\n",
       "      <td>8</td>\n",
       "      <td>830,777,000</td>\n",
       "      <td>885,973,000</td>\n",
       "      <td>1,300,679,000</td>\n",
       "      <td>3,318,602,000</td>\n",
       "      <td>3,318,602,000</td>\n",
       "    </tr>\n",
       "    <tr>\n",
       "      <th>6</th>\n",
       "      <td>AMAT</td>\n",
       "      <td>8,791,000,000</td>\n",
       "      <td>9</td>\n",
       "      <td>7,177,000,000</td>\n",
       "      <td>7,867,000,000</td>\n",
       "      <td>12,897,000,000</td>\n",
       "      <td>27,176,000,000</td>\n",
       "      <td>27,176,000,000</td>\n",
       "    </tr>\n",
       "    <tr>\n",
       "      <th>7</th>\n",
       "      <td>ASML</td>\n",
       "      <td>9,976,000,000</td>\n",
       "      <td>21</td>\n",
       "      <td>7,839,000,000</td>\n",
       "      <td>9,042,300,000</td>\n",
       "      <td>14,136,100,000</td>\n",
       "      <td>27,558,500,000</td>\n",
       "      <td>27,558,500,000</td>\n",
       "    </tr>\n",
       "    <tr>\n",
       "      <th>8</th>\n",
       "      <td>ABBV</td>\n",
       "      <td>17,172,000,000</td>\n",
       "      <td>3</td>\n",
       "      <td>4,863,000,000</td>\n",
       "      <td>12,757,000,000</td>\n",
       "      <td>33,903,000,000</td>\n",
       "      <td>54,318,000,000</td>\n",
       "      <td>54,318,000,000</td>\n",
       "    </tr>\n",
       "    <tr>\n",
       "      <th>9</th>\n",
       "      <td>MELI</td>\n",
       "      <td>2,455,000,000</td>\n",
       "      <td>19</td>\n",
       "      <td>987,000,000</td>\n",
       "      <td>1,823,000,000</td>\n",
       "      <td>7,206,000,000</td>\n",
       "      <td>14,473,000,000</td>\n",
       "      <td>14,473,000,000</td>\n",
       "    </tr>\n",
       "    <tr>\n",
       "      <th>10</th>\n",
       "      <td>HIMS</td>\n",
       "      <td>-19,938,000</td>\n",
       "      <td>-0</td>\n",
       "      <td>-23,546,000</td>\n",
       "      <td>-29,453,000</td>\n",
       "      <td>714,949,000</td>\n",
       "      <td>872,000,000</td>\n",
       "      <td>872,000,000</td>\n",
       "    </tr>\n",
       "    <tr>\n",
       "      <th>11</th>\n",
       "      <td>PYPL</td>\n",
       "      <td>6,830,000,000</td>\n",
       "      <td>4</td>\n",
       "      <td>4,246,000,000</td>\n",
       "      <td>4,944,000,000</td>\n",
       "      <td>13,704,000,000</td>\n",
       "      <td>29,771,000,000</td>\n",
       "      <td>29,771,000,000</td>\n",
       "    </tr>\n",
       "    <tr>\n",
       "      <th>12</th>\n",
       "      <td>NUE</td>\n",
       "      <td>7,687,026,000</td>\n",
       "      <td>18</td>\n",
       "      <td>4,524,801,000</td>\n",
       "      <td>6,230,342,000</td>\n",
       "      <td>7,814,394,000</td>\n",
       "      <td>34,713,501,000</td>\n",
       "      <td>34,713,501,000</td>\n",
       "    </tr>\n",
       "    <tr>\n",
       "      <th>13</th>\n",
       "      <td>EME</td>\n",
       "      <td>1,009,017,000</td>\n",
       "      <td>13</td>\n",
       "      <td>632,994,000</td>\n",
       "      <td>878,106,000</td>\n",
       "      <td>2,089,339,000</td>\n",
       "      <td>12,582,873,000</td>\n",
       "      <td>12,582,873,000</td>\n",
       "    </tr>\n",
       "  </tbody>\n",
       "</table>\n",
       "</div>"
      ],
      "text/plain": [
       "   symbol         EBITDA  Diluted EPS     Net Income  Operating Income  \\\n",
       "0    REGN  4,693,300,000           35  3,953,600,000     4,233,200,000   \n",
       "1    CART -2,085,000,000          -12 -1,622,000,000    -2,142,000,000   \n",
       "2    NVDA 35,583,000,000            1 29,760,000,000    32,972,000,000   \n",
       "3     PLD  6,567,797,000            3  3,059,214,000     3,084,483,000   \n",
       "4    BOOT    249,195,000            5    146,996,000       198,214,000   \n",
       "5    FSLR  1,212,249,000            8    830,777,000       885,973,000   \n",
       "6    AMAT  8,791,000,000            9  7,177,000,000     7,867,000,000   \n",
       "7    ASML  9,976,000,000           21  7,839,000,000     9,042,300,000   \n",
       "8    ABBV 17,172,000,000            3  4,863,000,000    12,757,000,000   \n",
       "9    MELI  2,455,000,000           19    987,000,000     1,823,000,000   \n",
       "10   HIMS    -19,938,000           -0    -23,546,000       -29,453,000   \n",
       "11   PYPL  6,830,000,000            4  4,246,000,000     4,944,000,000   \n",
       "12    NUE  7,687,026,000           18  4,524,801,000     6,230,342,000   \n",
       "13    EME  1,009,017,000           13    632,994,000       878,106,000   \n",
       "\n",
       "     Gross Profit  Total Revenue  Operating Revenue  \n",
       "0  11,301,400,000 13,117,200,000     12,581,100,000  \n",
       "1   2,278,000,000  3,042,000,000      3,042,000,000  \n",
       "2  44,301,000,000 60,922,000,000     60,922,000,000  \n",
       "3   6,013,134,000  8,023,469,000      8,023,469,000  \n",
       "4     614,424,000  1,667,009,000      1,667,009,000  \n",
       "5   1,300,679,000  3,318,602,000      3,318,602,000  \n",
       "6  12,897,000,000 27,176,000,000     27,176,000,000  \n",
       "7  14,136,100,000 27,558,500,000     27,558,500,000  \n",
       "8  33,903,000,000 54,318,000,000     54,318,000,000  \n",
       "9   7,206,000,000 14,473,000,000     14,473,000,000  \n",
       "10    714,949,000    872,000,000        872,000,000  \n",
       "11 13,704,000,000 29,771,000,000     29,771,000,000  \n",
       "12  7,814,394,000 34,713,501,000     34,713,501,000  \n",
       "13  2,089,339,000 12,582,873,000     12,582,873,000  "
      ]
     },
     "execution_count": 11,
     "metadata": {},
     "output_type": "execute_result"
    }
   ],
   "source": [
    "df = get_income_stmt(tickers, [\"symbol\", \"Total Revenue\", \"Operating Income\", \n",
    "                               \"Net Income\", \"Diluted EPS\", \"EBITDA\", \n",
    "                               \"Gross Profit\", \"Operating Revenue\"])\n",
    "df"
   ]
  },
  {
   "cell_type": "code",
   "execution_count": 7,
   "metadata": {},
   "outputs": [
    {
     "data": {
      "text/plain": [
       "Index(['symbol', 'year', 'Tax Effect Of Unusual Items', 'Tax Rate For Calcs',\n",
       "       'Normalized EBITDA', 'Total Unusual Items',\n",
       "       'Total Unusual Items Excluding Goodwill',\n",
       "       'Net Income From Continuing Operation Net Minority Interest',\n",
       "       'Reconciled Depreciation', 'Reconciled Cost Of Revenue', 'EBITDA',\n",
       "       'EBIT', 'Net Interest Income', 'Interest Expense', 'Interest Income',\n",
       "       'Normalized Income',\n",
       "       'Net Income From Continuing And Discontinued Operation',\n",
       "       'Total Expenses', 'Total Operating Income As Reported',\n",
       "       'Diluted Average Shares', 'Basic Average Shares', 'Diluted EPS',\n",
       "       'Basic EPS', 'Diluted NI Availto Com Stockholders',\n",
       "       'Net Income Common Stockholders', 'Net Income',\n",
       "       'Net Income Including Noncontrolling Interests',\n",
       "       'Net Income Continuous Operations', 'Tax Provision', 'Pretax Income',\n",
       "       'Other Income Expense', 'Other Non Operating Income Expenses',\n",
       "       'Special Income Charges', 'Other Special Charges',\n",
       "       'Restructuring And Mergern Acquisition', 'Gain On Sale Of Security',\n",
       "       'Net Non Operating Interest Income Expense',\n",
       "       'Interest Expense Non Operating', 'Interest Income Non Operating',\n",
       "       'Operating Income', 'Operating Expense', 'Other Operating Expenses',\n",
       "       'Research And Development', 'Selling General And Administration',\n",
       "       'Gross Profit', 'Cost Of Revenue', 'Total Revenue', 'Operating Revenue',\n",
       "       'Average Dilution Earnings', 'Preferred Stock Dividends',\n",
       "       'Selling And Marketing Expense', 'General And Administrative Expense',\n",
       "       'Other Gand A', 'Otherunder Preferred Stock Dividend',\n",
       "       'Minority Interests', 'Earnings From Equity Interest',\n",
       "       'Total Other Finance Cost',\n",
       "       'Depreciation Amortization Depletion Income Statement',\n",
       "       'Depreciation And Amortization In Income Statement',\n",
       "       'Earnings From Equity Interest Net Of Tax', 'Gain On Sale Of Business',\n",
       "       'Impairment Of Capital Assets', 'Provision For Doubtful Accounts',\n",
       "       'Write Off', 'Net Income Discontinuous Operations'],\n",
       "      dtype='object')"
      ]
     },
     "execution_count": 7,
     "metadata": {},
     "output_type": "execute_result"
    }
   ],
   "source": [
    "df.columns"
   ]
  },
  {
   "cell_type": "markdown",
   "metadata": {},
   "source": [
    "# Cash Flow Statement"
   ]
  },
  {
   "cell_type": "code",
   "execution_count": 17,
   "metadata": {},
   "outputs": [
    {
     "data": {
      "text/html": [
       "<div>\n",
       "<style scoped>\n",
       "    .dataframe tbody tr th:only-of-type {\n",
       "        vertical-align: middle;\n",
       "    }\n",
       "\n",
       "    .dataframe tbody tr th {\n",
       "        vertical-align: top;\n",
       "    }\n",
       "\n",
       "    .dataframe thead th {\n",
       "        text-align: right;\n",
       "    }\n",
       "</style>\n",
       "<table border=\"1\" class=\"dataframe\">\n",
       "  <thead>\n",
       "    <tr style=\"text-align: right;\">\n",
       "      <th></th>\n",
       "      <th>symbol</th>\n",
       "      <th>year</th>\n",
       "      <th>Free Cash Flow</th>\n",
       "      <th>Cash Flow From Continuing Financing Activities</th>\n",
       "      <th>Cash Flow From Continuing Investing Activities</th>\n",
       "      <th>Operating Cash Flow</th>\n",
       "      <th>Cash Flow From Continuing Operating Activities</th>\n",
       "    </tr>\n",
       "  </thead>\n",
       "  <tbody>\n",
       "    <tr>\n",
       "      <th>0</th>\n",
       "      <td>REGN</td>\n",
       "      <td>2023-12-31</td>\n",
       "      <td>3,667,600,000</td>\n",
       "      <td>-1,790,100,000</td>\n",
       "      <td>-3,185,100,000</td>\n",
       "      <td>4,594,000,000</td>\n",
       "      <td>4,594,000,000</td>\n",
       "    </tr>\n",
       "    <tr>\n",
       "      <th>1</th>\n",
       "      <td>CART</td>\n",
       "      <td>2023-12-31</td>\n",
       "      <td>530,000,000</td>\n",
       "      <td>-30,000,000</td>\n",
       "      <td>135,000,000</td>\n",
       "      <td>586,000,000</td>\n",
       "      <td>586,000,000</td>\n",
       "    </tr>\n",
       "    <tr>\n",
       "      <th>2</th>\n",
       "      <td>NVDA</td>\n",
       "      <td>2024-01-31</td>\n",
       "      <td>27,021,000,000</td>\n",
       "      <td>-13,633,000,000</td>\n",
       "      <td>-10,566,000,000</td>\n",
       "      <td>28,090,000,000</td>\n",
       "      <td>28,090,000,000</td>\n",
       "    </tr>\n",
       "    <tr>\n",
       "      <th>3</th>\n",
       "      <td>PLD</td>\n",
       "      <td>2023-12-31</td>\n",
       "      <td>5,373,058,000</td>\n",
       "      <td>1,320,282,000</td>\n",
       "      <td>-6,419,397,000</td>\n",
       "      <td>5,373,058,000</td>\n",
       "      <td>5,373,058,000</td>\n",
       "    </tr>\n",
       "    <tr>\n",
       "      <th>4</th>\n",
       "      <td>BOOT</td>\n",
       "      <td>2024-03-31</td>\n",
       "      <td>117,298,000</td>\n",
       "      <td>-59,644,000</td>\n",
       "      <td>-118,782,000</td>\n",
       "      <td>236,080,000</td>\n",
       "      <td>236,080,000</td>\n",
       "    </tr>\n",
       "    <tr>\n",
       "      <th>5</th>\n",
       "      <td>FSLR</td>\n",
       "      <td>2023-12-31</td>\n",
       "      <td>-784,515,000</td>\n",
       "      <td>336,853,000</td>\n",
       "      <td>-472,791,000</td>\n",
       "      <td>602,260,000</td>\n",
       "      <td>602,260,000</td>\n",
       "    </tr>\n",
       "    <tr>\n",
       "      <th>6</th>\n",
       "      <td>AMAT</td>\n",
       "      <td>2024-10-31</td>\n",
       "      <td>7,487,000,000</td>\n",
       "      <td>-4,470,000,000</td>\n",
       "      <td>-2,327,000,000</td>\n",
       "      <td>8,677,000,000</td>\n",
       "      <td>8,677,000,000</td>\n",
       "    </tr>\n",
       "    <tr>\n",
       "      <th>7</th>\n",
       "      <td>ASML</td>\n",
       "      <td>2023-12-31</td>\n",
       "      <td>3,247,200,000</td>\n",
       "      <td>-3,003,900,000</td>\n",
       "      <td>-2,689,300,000</td>\n",
       "      <td>5,443,400,000</td>\n",
       "      <td>5,443,400,000</td>\n",
       "    </tr>\n",
       "    <tr>\n",
       "      <th>8</th>\n",
       "      <td>ABBV</td>\n",
       "      <td>2023-12-31</td>\n",
       "      <td>22,062,000,000</td>\n",
       "      <td>-17,222,000,000</td>\n",
       "      <td>-2,009,000,000</td>\n",
       "      <td>22,839,000,000</td>\n",
       "      <td>22,839,000,000</td>\n",
       "    </tr>\n",
       "    <tr>\n",
       "      <th>9</th>\n",
       "      <td>MELI</td>\n",
       "      <td>2023-12-31</td>\n",
       "      <td>4,631,000,000</td>\n",
       "      <td>-267,000,000</td>\n",
       "      <td>-3,450,000,000</td>\n",
       "      <td>5,140,000,000</td>\n",
       "      <td>5,140,000,000</td>\n",
       "    </tr>\n",
       "    <tr>\n",
       "      <th>10</th>\n",
       "      <td>HIMS</td>\n",
       "      <td>2023-12-31</td>\n",
       "      <td>46,991,000</td>\n",
       "      <td>-11,475,000</td>\n",
       "      <td>-12,106,000</td>\n",
       "      <td>73,483,000</td>\n",
       "      <td>73,483,000</td>\n",
       "    </tr>\n",
       "    <tr>\n",
       "      <th>11</th>\n",
       "      <td>PYPL</td>\n",
       "      <td>2023-12-31</td>\n",
       "      <td>4,220,000,000</td>\n",
       "      <td>-2,993,000,000</td>\n",
       "      <td>752,000,000</td>\n",
       "      <td>4,843,000,000</td>\n",
       "      <td>4,843,000,000</td>\n",
       "    </tr>\n",
       "    <tr>\n",
       "      <th>12</th>\n",
       "      <td>NUE</td>\n",
       "      <td>2023-12-31</td>\n",
       "      <td>4,897,774,000</td>\n",
       "      <td>-2,592,811,000</td>\n",
       "      <td>-2,496,431,000</td>\n",
       "      <td>7,111,931,000</td>\n",
       "      <td>7,111,931,000</td>\n",
       "    </tr>\n",
       "    <tr>\n",
       "      <th>13</th>\n",
       "      <td>EME</td>\n",
       "      <td>2023-12-31</td>\n",
       "      <td>821,251,000</td>\n",
       "      <td>-412,054,000</td>\n",
       "      <td>-161,291,000</td>\n",
       "      <td>899,655,000</td>\n",
       "      <td>899,655,000</td>\n",
       "    </tr>\n",
       "  </tbody>\n",
       "</table>\n",
       "</div>"
      ],
      "text/plain": [
       "   symbol       year  Free Cash Flow  \\\n",
       "0    REGN 2023-12-31   3,667,600,000   \n",
       "1    CART 2023-12-31     530,000,000   \n",
       "2    NVDA 2024-01-31  27,021,000,000   \n",
       "3     PLD 2023-12-31   5,373,058,000   \n",
       "4    BOOT 2024-03-31     117,298,000   \n",
       "5    FSLR 2023-12-31    -784,515,000   \n",
       "6    AMAT 2024-10-31   7,487,000,000   \n",
       "7    ASML 2023-12-31   3,247,200,000   \n",
       "8    ABBV 2023-12-31  22,062,000,000   \n",
       "9    MELI 2023-12-31   4,631,000,000   \n",
       "10   HIMS 2023-12-31      46,991,000   \n",
       "11   PYPL 2023-12-31   4,220,000,000   \n",
       "12    NUE 2023-12-31   4,897,774,000   \n",
       "13    EME 2023-12-31     821,251,000   \n",
       "\n",
       "    Cash Flow From Continuing Financing Activities  \\\n",
       "0                                   -1,790,100,000   \n",
       "1                                      -30,000,000   \n",
       "2                                  -13,633,000,000   \n",
       "3                                    1,320,282,000   \n",
       "4                                      -59,644,000   \n",
       "5                                      336,853,000   \n",
       "6                                   -4,470,000,000   \n",
       "7                                   -3,003,900,000   \n",
       "8                                  -17,222,000,000   \n",
       "9                                     -267,000,000   \n",
       "10                                     -11,475,000   \n",
       "11                                  -2,993,000,000   \n",
       "12                                  -2,592,811,000   \n",
       "13                                    -412,054,000   \n",
       "\n",
       "    Cash Flow From Continuing Investing Activities  Operating Cash Flow  \\\n",
       "0                                   -3,185,100,000        4,594,000,000   \n",
       "1                                      135,000,000          586,000,000   \n",
       "2                                  -10,566,000,000       28,090,000,000   \n",
       "3                                   -6,419,397,000        5,373,058,000   \n",
       "4                                     -118,782,000          236,080,000   \n",
       "5                                     -472,791,000          602,260,000   \n",
       "6                                   -2,327,000,000        8,677,000,000   \n",
       "7                                   -2,689,300,000        5,443,400,000   \n",
       "8                                   -2,009,000,000       22,839,000,000   \n",
       "9                                   -3,450,000,000        5,140,000,000   \n",
       "10                                     -12,106,000           73,483,000   \n",
       "11                                     752,000,000        4,843,000,000   \n",
       "12                                  -2,496,431,000        7,111,931,000   \n",
       "13                                    -161,291,000          899,655,000   \n",
       "\n",
       "    Cash Flow From Continuing Operating Activities  \n",
       "0                                    4,594,000,000  \n",
       "1                                      586,000,000  \n",
       "2                                   28,090,000,000  \n",
       "3                                    5,373,058,000  \n",
       "4                                      236,080,000  \n",
       "5                                      602,260,000  \n",
       "6                                    8,677,000,000  \n",
       "7                                    5,443,400,000  \n",
       "8                                   22,839,000,000  \n",
       "9                                    5,140,000,000  \n",
       "10                                      73,483,000  \n",
       "11                                   4,843,000,000  \n",
       "12                                   7,111,931,000  \n",
       "13                                     899,655,000  "
      ]
     },
     "execution_count": 17,
     "metadata": {},
     "output_type": "execute_result"
    }
   ],
   "source": [
    "df = get_cash_flow(tickers, [\"symbol\", \"year\", \"Free Cash Flow\", \"Operating Cash Flow\", \n",
    "                             \"Cash Flow From Continuing Investing Activities\", \"Cash Flow From Continuing Financing Activities\",\n",
    "                             \"Cash Flow From Continuing Operating Activities\"])\n",
    "df = df.fillna(0)\n",
    "\n",
    "df"
   ]
  },
  {
   "cell_type": "code",
   "execution_count": 9,
   "metadata": {},
   "outputs": [
    {
     "data": {
      "text/plain": [
       "Index(['symbol', 'year', 'Free Cash Flow', 'Repurchase Of Capital Stock',\n",
       "       'Repayment Of Debt', 'Issuance Of Debt', 'Issuance Of Capital Stock',\n",
       "       'Capital Expenditure', 'Interest Paid Supplemental Data',\n",
       "       'Income Tax Paid Supplemental Data', 'End Cash Position',\n",
       "       'Beginning Cash Position', 'Effect Of Exchange Rate Changes',\n",
       "       'Changes In Cash', 'Financing Cash Flow',\n",
       "       'Cash Flow From Continuing Financing Activities',\n",
       "       'Net Other Financing Charges', 'Net Common Stock Issuance',\n",
       "       'Common Stock Payments', 'Common Stock Issuance',\n",
       "       'Net Issuance Payments Of Debt', 'Net Long Term Debt Issuance',\n",
       "       'Long Term Debt Payments', 'Long Term Debt Issuance',\n",
       "       'Investing Cash Flow', 'Cash Flow From Continuing Investing Activities',\n",
       "       'Net Other Investing Changes', 'Net Investment Purchase And Sale',\n",
       "       'Sale Of Investment', 'Purchase Of Investment',\n",
       "       'Net Business Purchase And Sale', 'Purchase Of Business',\n",
       "       'Net Intangibles Purchase And Sale', 'Purchase Of Intangibles',\n",
       "       'Capital Expenditure Reported', 'Operating Cash Flow',\n",
       "       'Cash Flow From Continuing Operating Activities',\n",
       "       'Change In Working Capital', 'Change In Other Working Capital',\n",
       "       'Change In Payables And Accrued Expense', 'Change In Payable',\n",
       "       'Change In Account Payable', 'Change In Prepaid Assets',\n",
       "       'Change In Inventory', 'Change In Receivables',\n",
       "       'Changes In Account Receivables', 'Other Non Cash Items',\n",
       "       'Stock Based Compensation', 'Deferred Tax', 'Deferred Income Tax',\n",
       "       'Depreciation Amortization Depletion', 'Depreciation And Amortization',\n",
       "       'Amortization Cash Flow', 'Amortization Of Intangibles', 'Depreciation',\n",
       "       'Operating Gains Losses', 'Gain Loss On Investment Securities',\n",
       "       'Net Income From Continuing Operations',\n",
       "       'Proceeds From Stock Option Exercised', 'Net Preferred Stock Issuance',\n",
       "       'Preferred Stock Issuance', 'Net PPE Purchase And Sale',\n",
       "       'Purchase Of PPE', 'Change In Other Current Liabilities',\n",
       "       'Change In Accrued Expense', 'Provisionand Write Offof Assets',\n",
       "       'Cash Dividends Paid', 'Common Stock Dividend Paid', 'Sale Of PPE',\n",
       "       'Preferred Stock Payments', 'Net Short Term Debt Issuance',\n",
       "       'Net Investment Properties Purchase And Sale',\n",
       "       'Sale Of Investment Properties', 'Purchase Of Investment Properties',\n",
       "       'Sale Of Business', 'Dividend Received Cfo',\n",
       "       'Earnings Losses From Equity Investments',\n",
       "       'Net Foreign Currency Exchange Gain Loss',\n",
       "       'Change In Other Current Assets', 'Asset Impairment Charge',\n",
       "       'Gain Loss On Sale Of PPE', 'Short Term Debt Issuance',\n",
       "       'Gain Loss On Sale Of Business', 'Short Term Debt Payments',\n",
       "       'Change In Tax Payable', 'Change In Income Tax Payable',\n",
       "       'Pension And Employee Benefit Expense', 'Preferred Stock Dividend Paid',\n",
       "       'Interest Received Cfo', 'Interest Paid Cfo',\n",
       "       'Unrealized Gain Loss On Investment Securities',\n",
       "       'Amortization Of Securities', 'Dividends Received Cfi',\n",
       "       'Excess Tax Benefit From Stock Based Compensation',\n",
       "       'Calculated_Financing_Cash_Flow', 'Calculated_Investing_Cash_Flow'],\n",
       "      dtype='object')"
      ]
     },
     "execution_count": 9,
     "metadata": {},
     "output_type": "execute_result"
    }
   ],
   "source": [
    "df.columns"
   ]
  },
  {
   "cell_type": "code",
   "execution_count": null,
   "metadata": {},
   "outputs": [],
   "source": []
  }
 ],
 "metadata": {
  "kernelspec": {
   "display_name": "kaggle",
   "language": "python",
   "name": "python3"
  },
  "language_info": {
   "codemirror_mode": {
    "name": "ipython",
    "version": 3
   },
   "file_extension": ".py",
   "mimetype": "text/x-python",
   "name": "python",
   "nbconvert_exporter": "python",
   "pygments_lexer": "ipython3",
   "version": "3.11.9"
  }
 },
 "nbformat": 4,
 "nbformat_minor": 2
}
