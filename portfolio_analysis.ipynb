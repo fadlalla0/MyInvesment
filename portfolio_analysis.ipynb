{
 "cells": [
  {
   "cell_type": "markdown",
   "metadata": {},
   "source": [
    "# Libraries"
   ]
  },
  {
   "cell_type": "code",
   "execution_count": 1,
   "metadata": {},
   "outputs": [],
   "source": [
    "from Functions import *\n",
    "import pandas as pd\n",
    "import numpy as np"
   ]
  },
  {
   "cell_type": "markdown",
   "metadata": {},
   "source": [
    "# Portfloio Allocation"
   ]
  },
  {
   "cell_type": "code",
   "execution_count": 12,
   "metadata": {},
   "outputs": [
    {
     "data": {
      "text/html": [
       "<div>\n",
       "<style scoped>\n",
       "    .dataframe tbody tr th:only-of-type {\n",
       "        vertical-align: middle;\n",
       "    }\n",
       "\n",
       "    .dataframe tbody tr th {\n",
       "        vertical-align: top;\n",
       "    }\n",
       "\n",
       "    .dataframe thead th {\n",
       "        text-align: right;\n",
       "    }\n",
       "</style>\n",
       "<table border=\"1\" class=\"dataframe\">\n",
       "  <thead>\n",
       "    <tr style=\"text-align: right;\">\n",
       "      <th></th>\n",
       "      <th>symbol</th>\n",
       "      <th>shares</th>\n",
       "      <th>cik</th>\n",
       "    </tr>\n",
       "  </thead>\n",
       "  <tbody>\n",
       "    <tr>\n",
       "      <th>0</th>\n",
       "      <td>REGN</td>\n",
       "      <td>0.67114</td>\n",
       "      <td>000872589</td>\n",
       "    </tr>\n",
       "    <tr>\n",
       "      <th>1</th>\n",
       "      <td>CART</td>\n",
       "      <td>11.77719</td>\n",
       "      <td>0001579091</td>\n",
       "    </tr>\n",
       "    <tr>\n",
       "      <th>2</th>\n",
       "      <td>NVDA</td>\n",
       "      <td>3.51458</td>\n",
       "      <td>0001045810</td>\n",
       "    </tr>\n",
       "    <tr>\n",
       "      <th>3</th>\n",
       "      <td>PLD</td>\n",
       "      <td>4.31146</td>\n",
       "      <td>0001045609</td>\n",
       "    </tr>\n",
       "    <tr>\n",
       "      <th>4</th>\n",
       "      <td>BOOT</td>\n",
       "      <td>2.22634</td>\n",
       "      <td>0001610250</td>\n",
       "    </tr>\n",
       "    <tr>\n",
       "      <th>5</th>\n",
       "      <td>FSLR</td>\n",
       "      <td>1.57911</td>\n",
       "      <td>0001274494</td>\n",
       "    </tr>\n",
       "    <tr>\n",
       "      <th>6</th>\n",
       "      <td>AMAT</td>\n",
       "      <td>1.47085</td>\n",
       "      <td>0006951</td>\n",
       "    </tr>\n",
       "    <tr>\n",
       "      <th>7</th>\n",
       "      <td>ASML</td>\n",
       "      <td>0.30251</td>\n",
       "      <td>000937966</td>\n",
       "    </tr>\n",
       "    <tr>\n",
       "      <th>8</th>\n",
       "      <td>ABBV</td>\n",
       "      <td>1.20770</td>\n",
       "      <td>0001551152</td>\n",
       "    </tr>\n",
       "    <tr>\n",
       "      <th>9</th>\n",
       "      <td>MELI</td>\n",
       "      <td>0.10340</td>\n",
       "      <td>0001099590</td>\n",
       "    </tr>\n",
       "    <tr>\n",
       "      <th>10</th>\n",
       "      <td>HIMS</td>\n",
       "      <td>5.55556</td>\n",
       "      <td>0001773751</td>\n",
       "    </tr>\n",
       "    <tr>\n",
       "      <th>11</th>\n",
       "      <td>PYPL</td>\n",
       "      <td>1.23000</td>\n",
       "      <td>0001633917</td>\n",
       "    </tr>\n",
       "    <tr>\n",
       "      <th>12</th>\n",
       "      <td>NUE</td>\n",
       "      <td>0.71178</td>\n",
       "      <td>00073309</td>\n",
       "    </tr>\n",
       "    <tr>\n",
       "      <th>13</th>\n",
       "      <td>EME</td>\n",
       "      <td>0.19725</td>\n",
       "      <td>000105634</td>\n",
       "    </tr>\n",
       "  </tbody>\n",
       "</table>\n",
       "</div>"
      ],
      "text/plain": [
       "   symbol    shares         cik\n",
       "0    REGN   0.67114   000872589\n",
       "1    CART  11.77719  0001579091\n",
       "2    NVDA   3.51458  0001045810\n",
       "3     PLD   4.31146  0001045609\n",
       "4    BOOT   2.22634  0001610250\n",
       "5    FSLR   1.57911  0001274494\n",
       "6    AMAT   1.47085     0006951\n",
       "7    ASML   0.30251   000937966\n",
       "8    ABBV   1.20770  0001551152\n",
       "9    MELI   0.10340  0001099590\n",
       "10   HIMS   5.55556  0001773751\n",
       "11   PYPL   1.23000  0001633917\n",
       "12    NUE   0.71178    00073309\n",
       "13    EME   0.19725   000105634"
      ]
     },
     "execution_count": 12,
     "metadata": {},
     "output_type": "execute_result"
    }
   ],
   "source": [
    "data = pd.read_csv('portfolio.csv')\n",
    "data['cik'] = data['symbol'].apply(lambda x : get_cik_from_symbol(x))\n",
    "data"
   ]
  },
  {
   "cell_type": "code",
   "execution_count": null,
   "metadata": {},
   "outputs": [],
   "source": []
  },
  {
   "cell_type": "code",
   "execution_count": null,
   "metadata": {},
   "outputs": [],
   "source": []
  }
 ],
 "metadata": {
  "kernelspec": {
   "display_name": "kaggle",
   "language": "python",
   "name": "python3"
  },
  "language_info": {
   "codemirror_mode": {
    "name": "ipython",
    "version": 3
   },
   "file_extension": ".py",
   "mimetype": "text/x-python",
   "name": "python",
   "nbconvert_exporter": "python",
   "pygments_lexer": "ipython3",
   "version": "3.11.9"
  }
 },
 "nbformat": 4,
 "nbformat_minor": 2
}
